{
 "cells": [
  {
   "cell_type": "code",
   "execution_count": 1,
   "metadata": {
    "colab": {
     "base_uri": "https://localhost:8080/"
    },
    "id": "ba_1M5uqj9Dt",
    "outputId": "60d03140-8e41-40c9-df76-6d631739a7e6"
   },
   "outputs": [],
   "source": [
    "#from google.colab import drive\n",
    "#drive.mount('/content/drive')"
   ]
  },
  {
   "cell_type": "markdown",
   "metadata": {
    "id": "1BnvUML6c-97"
   },
   "source": [
    "# Поиск рекомендаци покупателю"
   ]
  },
  {
   "cell_type": "markdown",
   "metadata": {
    "id": "30nH0FOGdIOJ"
   },
   "source": [
    "Проект создан с целью исселдования способа л-ближайших соседей для векторов в пространстве.\n",
    "Цель новые инструменты поработать с зашифрованными данными и понять принцип работы.\n",
    "Задача исследовать данные найти ближайшие 5 соседей наиболее похожих на сам вектор и вывести индексы этих строк как рекомендацию похожего товара."
   ]
  },
  {
   "cell_type": "markdown",
   "metadata": {},
   "source": [
    "# Задача:"
   ]
  },
  {
   "cell_type": "markdown",
   "metadata": {
    "id": "ivwTT8NteDhf"
   },
   "source": [
    "- разработать алгоритм, который для всех товаров из validation.csv предложит несколько вариантов наиболее похожих товаров из base;\n",
    "- оценить качество алгоритма по метрике accuracy@5."
   ]
  },
  {
   "cell_type": "markdown",
   "metadata": {},
   "source": [
    "# Данные"
   ]
  },
  {
   "cell_type": "markdown",
   "metadata": {},
   "source": [
    "- `base.csv` - анонимизированный набор товаров. Каждый товар представлен как уникальный id (0-base, 1-base, 2-base) и вектор признаков размерностью 72.\n",
    "- `target.csv` - обучающий датасет. Каждая строчка - один товар, для которого известен уникальный id (0-query, 1-query, …) , вектор признаков И id товара из base.csv, который максимально похож на него (по мнению экспертов).\n",
    "- `validation.csv` - датасет с товарами (уникальный id и вектор признаков), для которых надо найти наиболее близкие товары из base.csv\n",
    "- `validation_answer.csv` - правильные ответы к предыдущему файлу."
   ]
  },
  {
   "cell_type": "markdown",
   "metadata": {
    "id": "wZ3pAtHRd1DA"
   },
   "source": [
    "## Устанавливаем новые библиотеки"
   ]
  },
  {
   "cell_type": "code",
   "execution_count": 2,
   "metadata": {
    "colab": {
     "base_uri": "https://localhost:8080/"
    },
    "id": "iWCcP36Yj_bt",
    "outputId": "810af2fe-eaa4-4dc7-ecfd-7dbd3053dd4f"
   },
   "outputs": [
    {
     "name": "stdout",
     "output_type": "stream",
     "text": [
      "Requirement already satisfied: faiss-cpu in d:\\a\\lib\\site-packages (1.7.4)\n",
      "Requirement already satisfied: catboost in d:\\a\\lib\\site-packages (1.2)\n",
      "Requirement already satisfied: scipy in d:\\a\\lib\\site-packages (from catboost) (1.9.1)\n",
      "Requirement already satisfied: six in d:\\a\\lib\\site-packages (from catboost) (1.16.0)\n",
      "Requirement already satisfied: numpy>=1.16.0 in d:\\a\\lib\\site-packages (from catboost) (1.21.5)\n",
      "Requirement already satisfied: graphviz in d:\\a\\lib\\site-packages (from catboost) (0.20.1)\n",
      "Requirement already satisfied: matplotlib in d:\\a\\lib\\site-packages (from catboost) (3.5.2)\n",
      "Requirement already satisfied: pandas>=0.24 in d:\\a\\lib\\site-packages (from catboost) (1.4.4)\n",
      "Requirement already satisfied: plotly in d:\\a\\lib\\site-packages (from catboost) (5.9.0)\n",
      "Requirement already satisfied: python-dateutil>=2.8.1 in d:\\a\\lib\\site-packages (from pandas>=0.24->catboost) (2.8.2)\n",
      "Requirement already satisfied: pytz>=2020.1 in d:\\a\\lib\\site-packages (from pandas>=0.24->catboost) (2022.1)\n",
      "Requirement already satisfied: kiwisolver>=1.0.1 in d:\\a\\lib\\site-packages (from matplotlib->catboost) (1.4.2)\n",
      "Requirement already satisfied: cycler>=0.10 in d:\\a\\lib\\site-packages (from matplotlib->catboost) (0.11.0)\n",
      "Requirement already satisfied: pyparsing>=2.2.1 in d:\\a\\lib\\site-packages (from matplotlib->catboost) (3.0.9)\n",
      "Requirement already satisfied: fonttools>=4.22.0 in d:\\a\\lib\\site-packages (from matplotlib->catboost) (4.25.0)\n",
      "Requirement already satisfied: packaging>=20.0 in d:\\a\\lib\\site-packages (from matplotlib->catboost) (21.3)\n",
      "Requirement already satisfied: pillow>=6.2.0 in d:\\a\\lib\\site-packages (from matplotlib->catboost) (9.2.0)\n",
      "Requirement already satisfied: tenacity>=6.2.0 in d:\\a\\lib\\site-packages (from plotly->catboost) (8.0.1)\n"
     ]
    }
   ],
   "source": [
    "!pip install faiss-cpu\n",
    "!pip install catboost"
   ]
  },
  {
   "cell_type": "markdown",
   "metadata": {
    "id": "oDkltKgId7ow"
   },
   "source": [
    "## Импорт необходимых библиотек для работы"
   ]
  },
  {
   "cell_type": "code",
   "execution_count": 3,
   "metadata": {
    "id": "HReaGbcsj_em"
   },
   "outputs": [],
   "source": [
    "import pandas as pd\n",
    "import numpy as np\n",
    "import faiss\n",
    "from tqdm.notebook import tqdm\n",
    "import matplotlib.pyplot as plt\n",
    "from sklearn.preprocessing import StandardScaler\n",
    "from catboost import CatBoostClassifier\n",
    "from sklearn.pipeline import make_pipeline, Pipeline\n",
    "from sklearn.model_selection import GridSearchCV\n",
    "from sklearn.model_selection import cross_val_score\n",
    "from sklearn.model_selection import train_test_split, RandomizedSearchCV\n",
    "from sklearn.metrics import accuracy_score, roc_auc_score, f1_score, precision_score, recall_score, roc_curve"
   ]
  },
  {
   "cell_type": "markdown",
   "metadata": {
    "id": "lKLurf--eIOB"
   },
   "source": [
    "## Чтение и исследование датасетов"
   ]
  },
  {
   "cell_type": "code",
   "execution_count": 4,
   "metadata": {
    "colab": {
     "base_uri": "https://localhost:8080/",
     "height": 374
    },
    "id": "qxL9GBzVj_he",
    "outputId": "04c5dd87-44c9-4431-ca88-5d35a07cd0b6",
    "scrolled": true
   },
   "outputs": [
    {
     "data": {
      "text/html": [
       "<div>\n",
       "<style scoped>\n",
       "    .dataframe tbody tr th:only-of-type {\n",
       "        vertical-align: middle;\n",
       "    }\n",
       "\n",
       "    .dataframe tbody tr th {\n",
       "        vertical-align: top;\n",
       "    }\n",
       "\n",
       "    .dataframe thead th {\n",
       "        text-align: right;\n",
       "    }\n",
       "</style>\n",
       "<table border=\"1\" class=\"dataframe\">\n",
       "  <thead>\n",
       "    <tr style=\"text-align: right;\">\n",
       "      <th></th>\n",
       "      <th>0</th>\n",
       "      <th>1</th>\n",
       "      <th>2</th>\n",
       "      <th>3</th>\n",
       "      <th>4</th>\n",
       "      <th>5</th>\n",
       "      <th>6</th>\n",
       "      <th>7</th>\n",
       "      <th>8</th>\n",
       "      <th>9</th>\n",
       "      <th>...</th>\n",
       "      <th>62</th>\n",
       "      <th>63</th>\n",
       "      <th>64</th>\n",
       "      <th>65</th>\n",
       "      <th>66</th>\n",
       "      <th>67</th>\n",
       "      <th>68</th>\n",
       "      <th>69</th>\n",
       "      <th>70</th>\n",
       "      <th>71</th>\n",
       "    </tr>\n",
       "    <tr>\n",
       "      <th>Id</th>\n",
       "      <th></th>\n",
       "      <th></th>\n",
       "      <th></th>\n",
       "      <th></th>\n",
       "      <th></th>\n",
       "      <th></th>\n",
       "      <th></th>\n",
       "      <th></th>\n",
       "      <th></th>\n",
       "      <th></th>\n",
       "      <th></th>\n",
       "      <th></th>\n",
       "      <th></th>\n",
       "      <th></th>\n",
       "      <th></th>\n",
       "      <th></th>\n",
       "      <th></th>\n",
       "      <th></th>\n",
       "      <th></th>\n",
       "      <th></th>\n",
       "      <th></th>\n",
       "    </tr>\n",
       "  </thead>\n",
       "  <tbody>\n",
       "    <tr>\n",
       "      <th>0-base</th>\n",
       "      <td>-115.083890</td>\n",
       "      <td>11.152912</td>\n",
       "      <td>-64.426760</td>\n",
       "      <td>-118.88089</td>\n",
       "      <td>216.482440</td>\n",
       "      <td>-104.698060</td>\n",
       "      <td>-469.070588</td>\n",
       "      <td>44.348083</td>\n",
       "      <td>120.915344</td>\n",
       "      <td>181.449700</td>\n",
       "      <td>...</td>\n",
       "      <td>-42.808693</td>\n",
       "      <td>38.800827</td>\n",
       "      <td>-151.76218</td>\n",
       "      <td>-74.389090</td>\n",
       "      <td>63.66634</td>\n",
       "      <td>-4.703861</td>\n",
       "      <td>92.933610</td>\n",
       "      <td>115.269190</td>\n",
       "      <td>-112.756640</td>\n",
       "      <td>-60.830353</td>\n",
       "    </tr>\n",
       "    <tr>\n",
       "      <th>1-base</th>\n",
       "      <td>-34.562202</td>\n",
       "      <td>13.332763</td>\n",
       "      <td>-69.787610</td>\n",
       "      <td>-166.53348</td>\n",
       "      <td>57.680607</td>\n",
       "      <td>-86.098370</td>\n",
       "      <td>-85.076666</td>\n",
       "      <td>-35.637436</td>\n",
       "      <td>119.718636</td>\n",
       "      <td>195.234190</td>\n",
       "      <td>...</td>\n",
       "      <td>-117.767525</td>\n",
       "      <td>41.100000</td>\n",
       "      <td>-157.82940</td>\n",
       "      <td>-94.446806</td>\n",
       "      <td>68.20211</td>\n",
       "      <td>24.346846</td>\n",
       "      <td>179.937930</td>\n",
       "      <td>116.834000</td>\n",
       "      <td>-84.888941</td>\n",
       "      <td>-59.524610</td>\n",
       "    </tr>\n",
       "    <tr>\n",
       "      <th>2-base</th>\n",
       "      <td>-54.233746</td>\n",
       "      <td>6.379371</td>\n",
       "      <td>-29.210136</td>\n",
       "      <td>-133.41383</td>\n",
       "      <td>150.895830</td>\n",
       "      <td>-99.435326</td>\n",
       "      <td>52.554795</td>\n",
       "      <td>62.381706</td>\n",
       "      <td>128.951450</td>\n",
       "      <td>164.381470</td>\n",
       "      <td>...</td>\n",
       "      <td>-76.397800</td>\n",
       "      <td>46.011803</td>\n",
       "      <td>-207.14442</td>\n",
       "      <td>127.325570</td>\n",
       "      <td>65.56618</td>\n",
       "      <td>66.325680</td>\n",
       "      <td>81.073490</td>\n",
       "      <td>116.594154</td>\n",
       "      <td>-1074.464888</td>\n",
       "      <td>-32.527206</td>\n",
       "    </tr>\n",
       "    <tr>\n",
       "      <th>3-base</th>\n",
       "      <td>-87.520130</td>\n",
       "      <td>4.037884</td>\n",
       "      <td>-87.803030</td>\n",
       "      <td>-185.06763</td>\n",
       "      <td>76.369540</td>\n",
       "      <td>-58.985165</td>\n",
       "      <td>-383.182845</td>\n",
       "      <td>-33.611237</td>\n",
       "      <td>122.031910</td>\n",
       "      <td>136.233580</td>\n",
       "      <td>...</td>\n",
       "      <td>-70.647940</td>\n",
       "      <td>-6.358921</td>\n",
       "      <td>-147.20105</td>\n",
       "      <td>-37.692750</td>\n",
       "      <td>66.20289</td>\n",
       "      <td>-20.566910</td>\n",
       "      <td>137.206940</td>\n",
       "      <td>117.474100</td>\n",
       "      <td>-1074.464888</td>\n",
       "      <td>-72.915490</td>\n",
       "    </tr>\n",
       "    <tr>\n",
       "      <th>4-base</th>\n",
       "      <td>-72.743850</td>\n",
       "      <td>6.522049</td>\n",
       "      <td>43.671265</td>\n",
       "      <td>-140.60803</td>\n",
       "      <td>5.820023</td>\n",
       "      <td>-112.074080</td>\n",
       "      <td>-397.711282</td>\n",
       "      <td>45.182500</td>\n",
       "      <td>122.167180</td>\n",
       "      <td>112.119064</td>\n",
       "      <td>...</td>\n",
       "      <td>-57.199104</td>\n",
       "      <td>56.642403</td>\n",
       "      <td>-159.35184</td>\n",
       "      <td>85.944724</td>\n",
       "      <td>66.76632</td>\n",
       "      <td>-2.505783</td>\n",
       "      <td>65.315285</td>\n",
       "      <td>135.051590</td>\n",
       "      <td>-1074.464888</td>\n",
       "      <td>0.319401</td>\n",
       "    </tr>\n",
       "  </tbody>\n",
       "</table>\n",
       "<p>5 rows × 72 columns</p>\n",
       "</div>"
      ],
      "text/plain": [
       "                 0          1          2          3           4           5  \\\n",
       "Id                                                                            \n",
       "0-base -115.083890  11.152912 -64.426760 -118.88089  216.482440 -104.698060   \n",
       "1-base  -34.562202  13.332763 -69.787610 -166.53348   57.680607  -86.098370   \n",
       "2-base  -54.233746   6.379371 -29.210136 -133.41383  150.895830  -99.435326   \n",
       "3-base  -87.520130   4.037884 -87.803030 -185.06763   76.369540  -58.985165   \n",
       "4-base  -72.743850   6.522049  43.671265 -140.60803    5.820023 -112.074080   \n",
       "\n",
       "                 6          7           8           9  ...          62  \\\n",
       "Id                                                     ...               \n",
       "0-base -469.070588  44.348083  120.915344  181.449700  ...  -42.808693   \n",
       "1-base  -85.076666 -35.637436  119.718636  195.234190  ... -117.767525   \n",
       "2-base   52.554795  62.381706  128.951450  164.381470  ...  -76.397800   \n",
       "3-base -383.182845 -33.611237  122.031910  136.233580  ...  -70.647940   \n",
       "4-base -397.711282  45.182500  122.167180  112.119064  ...  -57.199104   \n",
       "\n",
       "               63         64          65        66         67          68  \\\n",
       "Id                                                                          \n",
       "0-base  38.800827 -151.76218  -74.389090  63.66634  -4.703861   92.933610   \n",
       "1-base  41.100000 -157.82940  -94.446806  68.20211  24.346846  179.937930   \n",
       "2-base  46.011803 -207.14442  127.325570  65.56618  66.325680   81.073490   \n",
       "3-base  -6.358921 -147.20105  -37.692750  66.20289 -20.566910  137.206940   \n",
       "4-base  56.642403 -159.35184   85.944724  66.76632  -2.505783   65.315285   \n",
       "\n",
       "                69           70         71  \n",
       "Id                                          \n",
       "0-base  115.269190  -112.756640 -60.830353  \n",
       "1-base  116.834000   -84.888941 -59.524610  \n",
       "2-base  116.594154 -1074.464888 -32.527206  \n",
       "3-base  117.474100 -1074.464888 -72.915490  \n",
       "4-base  135.051590 -1074.464888   0.319401  \n",
       "\n",
       "[5 rows x 72 columns]"
      ]
     },
     "execution_count": 4,
     "metadata": {},
     "output_type": "execute_result"
    }
   ],
   "source": [
    "#df_base = pd.read_csv('/content/drive/MyDrive/Учёба /ранжирование/base.csv', index_col=0)\n",
    "df_base=pd.read_csv('E:/Project Jupyter/match/project range/base.csv', index_col=0)\n",
    "df_base.head()"
   ]
  },
  {
   "cell_type": "code",
   "execution_count": 5,
   "metadata": {
    "colab": {
     "base_uri": "https://localhost:8080/",
     "height": 562
    },
    "id": "jzmhgxetomB2",
    "outputId": "3a28e3b0-f23b-4476-96ef-05cf062f9a8e"
   },
   "outputs": [
    {
     "data": {
      "text/html": [
       "<div>\n",
       "<style scoped>\n",
       "    .dataframe tbody tr th:only-of-type {\n",
       "        vertical-align: middle;\n",
       "    }\n",
       "\n",
       "    .dataframe tbody tr th {\n",
       "        vertical-align: top;\n",
       "    }\n",
       "\n",
       "    .dataframe thead th {\n",
       "        text-align: right;\n",
       "    }\n",
       "</style>\n",
       "<table border=\"1\" class=\"dataframe\">\n",
       "  <thead>\n",
       "    <tr style=\"text-align: right;\">\n",
       "      <th></th>\n",
       "      <th>0</th>\n",
       "      <th>1</th>\n",
       "      <th>2</th>\n",
       "      <th>3</th>\n",
       "      <th>4</th>\n",
       "      <th>5</th>\n",
       "      <th>6</th>\n",
       "      <th>7</th>\n",
       "      <th>8</th>\n",
       "      <th>9</th>\n",
       "      <th>...</th>\n",
       "      <th>62</th>\n",
       "      <th>63</th>\n",
       "      <th>64</th>\n",
       "      <th>65</th>\n",
       "      <th>66</th>\n",
       "      <th>67</th>\n",
       "      <th>68</th>\n",
       "      <th>69</th>\n",
       "      <th>70</th>\n",
       "      <th>71</th>\n",
       "    </tr>\n",
       "    <tr>\n",
       "      <th>Id</th>\n",
       "      <th></th>\n",
       "      <th></th>\n",
       "      <th></th>\n",
       "      <th></th>\n",
       "      <th></th>\n",
       "      <th></th>\n",
       "      <th></th>\n",
       "      <th></th>\n",
       "      <th></th>\n",
       "      <th></th>\n",
       "      <th></th>\n",
       "      <th></th>\n",
       "      <th></th>\n",
       "      <th></th>\n",
       "      <th></th>\n",
       "      <th></th>\n",
       "      <th></th>\n",
       "      <th></th>\n",
       "      <th></th>\n",
       "      <th></th>\n",
       "      <th></th>\n",
       "    </tr>\n",
       "  </thead>\n",
       "  <tbody>\n",
       "    <tr>\n",
       "      <th>0-base</th>\n",
       "      <td>-115.083890</td>\n",
       "      <td>11.152912</td>\n",
       "      <td>-64.426760</td>\n",
       "      <td>-118.88089</td>\n",
       "      <td>216.482440</td>\n",
       "      <td>-104.698060</td>\n",
       "      <td>-469.070588</td>\n",
       "      <td>44.348083</td>\n",
       "      <td>120.915344</td>\n",
       "      <td>181.449700</td>\n",
       "      <td>...</td>\n",
       "      <td>-42.808693</td>\n",
       "      <td>38.800827</td>\n",
       "      <td>-151.76218</td>\n",
       "      <td>-74.389090</td>\n",
       "      <td>63.666340</td>\n",
       "      <td>-4.703861</td>\n",
       "      <td>92.933610</td>\n",
       "      <td>115.269190</td>\n",
       "      <td>-112.756640</td>\n",
       "      <td>-60.830353</td>\n",
       "    </tr>\n",
       "    <tr>\n",
       "      <th>1-base</th>\n",
       "      <td>-34.562202</td>\n",
       "      <td>13.332763</td>\n",
       "      <td>-69.787610</td>\n",
       "      <td>-166.53348</td>\n",
       "      <td>57.680607</td>\n",
       "      <td>-86.098370</td>\n",
       "      <td>-85.076666</td>\n",
       "      <td>-35.637436</td>\n",
       "      <td>119.718636</td>\n",
       "      <td>195.234190</td>\n",
       "      <td>...</td>\n",
       "      <td>-117.767525</td>\n",
       "      <td>41.100000</td>\n",
       "      <td>-157.82940</td>\n",
       "      <td>-94.446806</td>\n",
       "      <td>68.202110</td>\n",
       "      <td>24.346846</td>\n",
       "      <td>179.937930</td>\n",
       "      <td>116.834000</td>\n",
       "      <td>-84.888941</td>\n",
       "      <td>-59.524610</td>\n",
       "    </tr>\n",
       "    <tr>\n",
       "      <th>2-base</th>\n",
       "      <td>-54.233746</td>\n",
       "      <td>6.379371</td>\n",
       "      <td>-29.210136</td>\n",
       "      <td>-133.41383</td>\n",
       "      <td>150.895830</td>\n",
       "      <td>-99.435326</td>\n",
       "      <td>52.554795</td>\n",
       "      <td>62.381706</td>\n",
       "      <td>128.951450</td>\n",
       "      <td>164.381470</td>\n",
       "      <td>...</td>\n",
       "      <td>-76.397800</td>\n",
       "      <td>46.011803</td>\n",
       "      <td>-207.14442</td>\n",
       "      <td>127.325570</td>\n",
       "      <td>65.566180</td>\n",
       "      <td>66.325680</td>\n",
       "      <td>81.073490</td>\n",
       "      <td>116.594154</td>\n",
       "      <td>-1074.464888</td>\n",
       "      <td>-32.527206</td>\n",
       "    </tr>\n",
       "    <tr>\n",
       "      <th>3-base</th>\n",
       "      <td>-87.520130</td>\n",
       "      <td>4.037884</td>\n",
       "      <td>-87.803030</td>\n",
       "      <td>-185.06763</td>\n",
       "      <td>76.369540</td>\n",
       "      <td>-58.985165</td>\n",
       "      <td>-383.182845</td>\n",
       "      <td>-33.611237</td>\n",
       "      <td>122.031910</td>\n",
       "      <td>136.233580</td>\n",
       "      <td>...</td>\n",
       "      <td>-70.647940</td>\n",
       "      <td>-6.358921</td>\n",
       "      <td>-147.20105</td>\n",
       "      <td>-37.692750</td>\n",
       "      <td>66.202890</td>\n",
       "      <td>-20.566910</td>\n",
       "      <td>137.206940</td>\n",
       "      <td>117.474100</td>\n",
       "      <td>-1074.464888</td>\n",
       "      <td>-72.915490</td>\n",
       "    </tr>\n",
       "    <tr>\n",
       "      <th>4-base</th>\n",
       "      <td>-72.743850</td>\n",
       "      <td>6.522049</td>\n",
       "      <td>43.671265</td>\n",
       "      <td>-140.60803</td>\n",
       "      <td>5.820023</td>\n",
       "      <td>-112.074080</td>\n",
       "      <td>-397.711282</td>\n",
       "      <td>45.182500</td>\n",
       "      <td>122.167180</td>\n",
       "      <td>112.119064</td>\n",
       "      <td>...</td>\n",
       "      <td>-57.199104</td>\n",
       "      <td>56.642403</td>\n",
       "      <td>-159.35184</td>\n",
       "      <td>85.944724</td>\n",
       "      <td>66.766320</td>\n",
       "      <td>-2.505783</td>\n",
       "      <td>65.315285</td>\n",
       "      <td>135.051590</td>\n",
       "      <td>-1074.464888</td>\n",
       "      <td>0.319401</td>\n",
       "    </tr>\n",
       "    <tr>\n",
       "      <th>...</th>\n",
       "      <td>...</td>\n",
       "      <td>...</td>\n",
       "      <td>...</td>\n",
       "      <td>...</td>\n",
       "      <td>...</td>\n",
       "      <td>...</td>\n",
       "      <td>...</td>\n",
       "      <td>...</td>\n",
       "      <td>...</td>\n",
       "      <td>...</td>\n",
       "      <td>...</td>\n",
       "      <td>...</td>\n",
       "      <td>...</td>\n",
       "      <td>...</td>\n",
       "      <td>...</td>\n",
       "      <td>...</td>\n",
       "      <td>...</td>\n",
       "      <td>...</td>\n",
       "      <td>...</td>\n",
       "      <td>...</td>\n",
       "      <td>...</td>\n",
       "    </tr>\n",
       "    <tr>\n",
       "      <th>4744755-base</th>\n",
       "      <td>-125.086300</td>\n",
       "      <td>4.735448</td>\n",
       "      <td>38.284935</td>\n",
       "      <td>-125.27671</td>\n",
       "      <td>209.788360</td>\n",
       "      <td>-47.870010</td>\n",
       "      <td>-628.127378</td>\n",
       "      <td>-71.077340</td>\n",
       "      <td>125.534355</td>\n",
       "      <td>29.341850</td>\n",
       "      <td>...</td>\n",
       "      <td>-70.364395</td>\n",
       "      <td>55.428260</td>\n",
       "      <td>-191.53702</td>\n",
       "      <td>122.978279</td>\n",
       "      <td>65.515260</td>\n",
       "      <td>108.963715</td>\n",
       "      <td>-52.795380</td>\n",
       "      <td>117.254510</td>\n",
       "      <td>-615.998268</td>\n",
       "      <td>-77.768555</td>\n",
       "    </tr>\n",
       "    <tr>\n",
       "      <th>4744759-base</th>\n",
       "      <td>-108.598390</td>\n",
       "      <td>5.454173</td>\n",
       "      <td>-22.191975</td>\n",
       "      <td>-158.71666</td>\n",
       "      <td>113.606110</td>\n",
       "      <td>-88.843430</td>\n",
       "      <td>-117.234538</td>\n",
       "      <td>137.317690</td>\n",
       "      <td>129.056690</td>\n",
       "      <td>164.754240</td>\n",
       "      <td>...</td>\n",
       "      <td>-70.360190</td>\n",
       "      <td>18.439003</td>\n",
       "      <td>-90.65145</td>\n",
       "      <td>-28.586794</td>\n",
       "      <td>68.691666</td>\n",
       "      <td>1.636499</td>\n",
       "      <td>-24.388298</td>\n",
       "      <td>93.530540</td>\n",
       "      <td>-1074.464888</td>\n",
       "      <td>-90.800400</td>\n",
       "    </tr>\n",
       "    <tr>\n",
       "      <th>4744762-base</th>\n",
       "      <td>-97.026730</td>\n",
       "      <td>-2.143885</td>\n",
       "      <td>-71.274090</td>\n",
       "      <td>-144.68066</td>\n",
       "      <td>149.464810</td>\n",
       "      <td>-21.572212</td>\n",
       "      <td>-759.626065</td>\n",
       "      <td>-108.151955</td>\n",
       "      <td>124.810135</td>\n",
       "      <td>118.760700</td>\n",
       "      <td>...</td>\n",
       "      <td>-55.961933</td>\n",
       "      <td>62.923470</td>\n",
       "      <td>-169.11832</td>\n",
       "      <td>108.452806</td>\n",
       "      <td>68.592970</td>\n",
       "      <td>43.205433</td>\n",
       "      <td>69.029830</td>\n",
       "      <td>129.536650</td>\n",
       "      <td>-1074.464888</td>\n",
       "      <td>4.718300</td>\n",
       "    </tr>\n",
       "    <tr>\n",
       "      <th>4744763-base</th>\n",
       "      <td>-86.838430</td>\n",
       "      <td>8.911945</td>\n",
       "      <td>-34.837738</td>\n",
       "      <td>-106.46268</td>\n",
       "      <td>42.236572</td>\n",
       "      <td>-96.194230</td>\n",
       "      <td>-532.907338</td>\n",
       "      <td>9.845185</td>\n",
       "      <td>126.037560</td>\n",
       "      <td>59.223100</td>\n",
       "      <td>...</td>\n",
       "      <td>-86.867020</td>\n",
       "      <td>-6.959065</td>\n",
       "      <td>-174.07591</td>\n",
       "      <td>-151.007973</td>\n",
       "      <td>68.622246</td>\n",
       "      <td>0.707927</td>\n",
       "      <td>94.451866</td>\n",
       "      <td>124.843000</td>\n",
       "      <td>-1074.464888</td>\n",
       "      <td>-55.789314</td>\n",
       "    </tr>\n",
       "    <tr>\n",
       "      <th>4744766-base</th>\n",
       "      <td>-101.965270</td>\n",
       "      <td>12.859500</td>\n",
       "      <td>-51.393135</td>\n",
       "      <td>-168.21826</td>\n",
       "      <td>101.065110</td>\n",
       "      <td>-71.914600</td>\n",
       "      <td>34.734278</td>\n",
       "      <td>-5.394417</td>\n",
       "      <td>135.523760</td>\n",
       "      <td>125.361940</td>\n",
       "      <td>...</td>\n",
       "      <td>-67.404680</td>\n",
       "      <td>72.963425</td>\n",
       "      <td>-147.85870</td>\n",
       "      <td>-5.081259</td>\n",
       "      <td>69.688720</td>\n",
       "      <td>-20.186157</td>\n",
       "      <td>84.479110</td>\n",
       "      <td>92.833786</td>\n",
       "      <td>-1073.826170</td>\n",
       "      <td>14.774761</td>\n",
       "    </tr>\n",
       "  </tbody>\n",
       "</table>\n",
       "<p>2918139 rows × 72 columns</p>\n",
       "</div>"
      ],
      "text/plain": [
       "                       0          1          2          3           4  \\\n",
       "Id                                                                      \n",
       "0-base       -115.083890  11.152912 -64.426760 -118.88089  216.482440   \n",
       "1-base        -34.562202  13.332763 -69.787610 -166.53348   57.680607   \n",
       "2-base        -54.233746   6.379371 -29.210136 -133.41383  150.895830   \n",
       "3-base        -87.520130   4.037884 -87.803030 -185.06763   76.369540   \n",
       "4-base        -72.743850   6.522049  43.671265 -140.60803    5.820023   \n",
       "...                  ...        ...        ...        ...         ...   \n",
       "4744755-base -125.086300   4.735448  38.284935 -125.27671  209.788360   \n",
       "4744759-base -108.598390   5.454173 -22.191975 -158.71666  113.606110   \n",
       "4744762-base  -97.026730  -2.143885 -71.274090 -144.68066  149.464810   \n",
       "4744763-base  -86.838430   8.911945 -34.837738 -106.46268   42.236572   \n",
       "4744766-base -101.965270  12.859500 -51.393135 -168.21826  101.065110   \n",
       "\n",
       "                       5           6           7           8           9  ...  \\\n",
       "Id                                                                        ...   \n",
       "0-base       -104.698060 -469.070588   44.348083  120.915344  181.449700  ...   \n",
       "1-base        -86.098370  -85.076666  -35.637436  119.718636  195.234190  ...   \n",
       "2-base        -99.435326   52.554795   62.381706  128.951450  164.381470  ...   \n",
       "3-base        -58.985165 -383.182845  -33.611237  122.031910  136.233580  ...   \n",
       "4-base       -112.074080 -397.711282   45.182500  122.167180  112.119064  ...   \n",
       "...                  ...         ...         ...         ...         ...  ...   \n",
       "4744755-base  -47.870010 -628.127378  -71.077340  125.534355   29.341850  ...   \n",
       "4744759-base  -88.843430 -117.234538  137.317690  129.056690  164.754240  ...   \n",
       "4744762-base  -21.572212 -759.626065 -108.151955  124.810135  118.760700  ...   \n",
       "4744763-base  -96.194230 -532.907338    9.845185  126.037560   59.223100  ...   \n",
       "4744766-base  -71.914600   34.734278   -5.394417  135.523760  125.361940  ...   \n",
       "\n",
       "                      62         63         64          65         66  \\\n",
       "Id                                                                      \n",
       "0-base        -42.808693  38.800827 -151.76218  -74.389090  63.666340   \n",
       "1-base       -117.767525  41.100000 -157.82940  -94.446806  68.202110   \n",
       "2-base        -76.397800  46.011803 -207.14442  127.325570  65.566180   \n",
       "3-base        -70.647940  -6.358921 -147.20105  -37.692750  66.202890   \n",
       "4-base        -57.199104  56.642403 -159.35184   85.944724  66.766320   \n",
       "...                  ...        ...        ...         ...        ...   \n",
       "4744755-base  -70.364395  55.428260 -191.53702  122.978279  65.515260   \n",
       "4744759-base  -70.360190  18.439003  -90.65145  -28.586794  68.691666   \n",
       "4744762-base  -55.961933  62.923470 -169.11832  108.452806  68.592970   \n",
       "4744763-base  -86.867020  -6.959065 -174.07591 -151.007973  68.622246   \n",
       "4744766-base  -67.404680  72.963425 -147.85870   -5.081259  69.688720   \n",
       "\n",
       "                      67          68          69           70         71  \n",
       "Id                                                                        \n",
       "0-base         -4.703861   92.933610  115.269190  -112.756640 -60.830353  \n",
       "1-base         24.346846  179.937930  116.834000   -84.888941 -59.524610  \n",
       "2-base         66.325680   81.073490  116.594154 -1074.464888 -32.527206  \n",
       "3-base        -20.566910  137.206940  117.474100 -1074.464888 -72.915490  \n",
       "4-base         -2.505783   65.315285  135.051590 -1074.464888   0.319401  \n",
       "...                  ...         ...         ...          ...        ...  \n",
       "4744755-base  108.963715  -52.795380  117.254510  -615.998268 -77.768555  \n",
       "4744759-base    1.636499  -24.388298   93.530540 -1074.464888 -90.800400  \n",
       "4744762-base   43.205433   69.029830  129.536650 -1074.464888   4.718300  \n",
       "4744763-base    0.707927   94.451866  124.843000 -1074.464888 -55.789314  \n",
       "4744766-base  -20.186157   84.479110   92.833786 -1073.826170  14.774761  \n",
       "\n",
       "[2918139 rows x 72 columns]"
      ]
     },
     "execution_count": 5,
     "metadata": {},
     "output_type": "execute_result"
    }
   ],
   "source": [
    "df_base"
   ]
  },
  {
   "cell_type": "code",
   "execution_count": 6,
   "metadata": {
    "colab": {
     "base_uri": "https://localhost:8080/"
    },
    "id": "YteAvtJpj_kW",
    "outputId": "e573bb08-79c2-4523-cd94-512c98d74b43"
   },
   "outputs": [
    {
     "data": {
      "text/plain": [
       "(2918139, 72)"
      ]
     },
     "execution_count": 6,
     "metadata": {},
     "output_type": "execute_result"
    }
   ],
   "source": [
    "df_base.shape"
   ]
  },
  {
   "cell_type": "code",
   "execution_count": 7,
   "metadata": {
    "colab": {
     "base_uri": "https://localhost:8080/",
     "height": 1000
    },
    "id": "FiUUDaoRj_nN",
    "outputId": "c0943357-565e-4813-d34b-55692b70f84b"
   },
   "outputs": [
    {
     "data": {
      "image/png": "[encoded data removed]",
      "text/plain": [
       "<Figure size 2500x2500 with 72 Axes>"
      ]
     },
     "metadata": {},
     "output_type": "display_data"
    }
   ],
   "source": [
    "df_base.hist(figsize =(25,25));"
   ]
  },
  {
   "cell_type": "code",
   "execution_count": 8,
   "metadata": {
    "colab": {
     "base_uri": "https://localhost:8080/"
    },
    "id": "HdVVghI0omB3",
    "outputId": "60ff89f4-79d1-489a-e933-179b5c0d53f7"
   },
   "outputs": [
    {
     "data": {
      "text/plain": [
       "1507.231274    1727961\n",
       "1248.126198      40784\n",
       "1342.641120      32933\n",
       "1483.714136      23486\n",
       "1054.205600      19951\n",
       "                ...   \n",
       "1474.918781          1\n",
       "1068.453482          1\n",
       "227.239190           1\n",
       "1288.365543          1\n",
       "889.961374           1\n",
       "Name: 21, Length: 715856, dtype: int64"
      ]
     },
     "execution_count": 8,
     "metadata": {},
     "output_type": "execute_result"
    }
   ],
   "source": [
    "df_base['21'].value_counts()"
   ]
  },
  {
   "cell_type": "markdown",
   "metadata": {
    "id": "P5fnOdm0b8qY"
   },
   "source": [
    "В колонках 6,21, 25, 44, 33, 33, 59, 65, 70 неравномерно распределены данные.Это может в дальнейшем помешать предсказаниям"
   ]
  },
  {
   "cell_type": "markdown",
   "metadata": {},
   "source": [
    "### Используем StadartScaler для нормализации данных"
   ]
  },
  {
   "cell_type": "code",
   "execution_count": 9,
   "metadata": {
    "colab": {
     "base_uri": "https://localhost:8080/",
     "height": 1000
    },
    "id": "jPueb9X1j_p7",
    "outputId": "7393603a-6611-42f2-be79-64c1c3d2b415"
   },
   "outputs": [
    {
     "data": {
      "image/png": "[encoded data removed]",
      "text/plain": [
       "<Figure size 2500x2500 with 72 Axes>"
      ]
     },
     "metadata": {},
     "output_type": "display_data"
    }
   ],
   "source": [
    "df_base = df_base.drop(columns=['21', '25', '70'])\n",
    "numeric = ['6','44', '33', '59', '65']\n",
    "scaler = StandardScaler()\n",
    "scaler.fit(df_base[numeric])\n",
    "df_base[numeric] = scaler.transform(df_base[numeric])\n",
    "df_base.hist(figsize =(25,25));"
   ]
  },
  {
   "cell_type": "markdown",
   "metadata": {
    "id": "L5ZugfmFb8J6"
   },
   "source": [
    "## Использование Faiss для поиска k - ближайших соседей"
   ]
  },
  {
   "cell_type": "markdown",
   "metadata": {},
   "source": [
    "### IndexIVFFlat"
   ]
  },
  {
   "cell_type": "markdown",
   "metadata": {},
   "source": [
    "#### Делаем количество кластеров 500"
   ]
  },
  {
   "cell_type": "code",
   "execution_count": 30,
   "metadata": {},
   "outputs": [
    {
     "data": {
      "text/plain": [
       "69"
      ]
     },
     "execution_count": 30,
     "metadata": {},
     "output_type": "execute_result"
    }
   ],
   "source": [
    "df_base.shape[1]"
   ]
  },
  {
   "cell_type": "code",
   "execution_count": 10,
   "metadata": {
    "id": "VWNfRpcJgD76"
   },
   "outputs": [],
   "source": [
    "dims = df_base.shape[1]\n",
    "n_cells = 500\n",
    "# how many cells\n",
    "quantizer = faiss.IndexFlatL2(dims)\n",
    "idx_l2 = faiss.IndexIVFFlat(quantizer, dims, n_cells)"
   ]
  },
  {
   "cell_type": "code",
   "execution_count": 11,
   "metadata": {
    "id": "gZfDnIFSgD-1"
   },
   "outputs": [],
   "source": [
    "idx_l2.train(np.ascontiguousarray(df_base.values[:50000, :]).astype('float32'))\n",
    "\n",
    "idx_l2.add(np.ascontiguousarray(df_base.values).astype('float32'))"
   ]
  },
  {
   "cell_type": "code",
   "execution_count": 12,
   "metadata": {
    "id": "GIdSmovogEBu"
   },
   "outputs": [],
   "source": [
    "base_index = {k: v for k, v in enumerate(df_base.index.to_list())}\n",
    "\n",
    "#del df_base"
   ]
  },
  {
   "cell_type": "code",
   "execution_count": 13,
   "metadata": {
    "colab": {
     "base_uri": "https://localhost:8080/",
     "height": 649
    },
    "id": "_p8hT6E7gEEk",
    "outputId": "e92c58b4-2739-40c2-e347-9ef176685b80"
   },
   "outputs": [
    {
     "data": {
      "text/html": [
       "<div>\n",
       "<style scoped>\n",
       "    .dataframe tbody tr th:only-of-type {\n",
       "        vertical-align: middle;\n",
       "    }\n",
       "\n",
       "    .dataframe tbody tr th {\n",
       "        vertical-align: top;\n",
       "    }\n",
       "\n",
       "    .dataframe thead th {\n",
       "        text-align: right;\n",
       "    }\n",
       "</style>\n",
       "<table border=\"1\" class=\"dataframe\">\n",
       "  <thead>\n",
       "    <tr style=\"text-align: right;\">\n",
       "      <th></th>\n",
       "      <th>0</th>\n",
       "      <th>1</th>\n",
       "      <th>2</th>\n",
       "      <th>3</th>\n",
       "      <th>4</th>\n",
       "      <th>5</th>\n",
       "      <th>6</th>\n",
       "      <th>7</th>\n",
       "      <th>8</th>\n",
       "      <th>9</th>\n",
       "      <th>...</th>\n",
       "      <th>63</th>\n",
       "      <th>64</th>\n",
       "      <th>65</th>\n",
       "      <th>66</th>\n",
       "      <th>67</th>\n",
       "      <th>68</th>\n",
       "      <th>69</th>\n",
       "      <th>70</th>\n",
       "      <th>71</th>\n",
       "      <th>Target</th>\n",
       "    </tr>\n",
       "    <tr>\n",
       "      <th>Id</th>\n",
       "      <th></th>\n",
       "      <th></th>\n",
       "      <th></th>\n",
       "      <th></th>\n",
       "      <th></th>\n",
       "      <th></th>\n",
       "      <th></th>\n",
       "      <th></th>\n",
       "      <th></th>\n",
       "      <th></th>\n",
       "      <th></th>\n",
       "      <th></th>\n",
       "      <th></th>\n",
       "      <th></th>\n",
       "      <th></th>\n",
       "      <th></th>\n",
       "      <th></th>\n",
       "      <th></th>\n",
       "      <th></th>\n",
       "      <th></th>\n",
       "      <th></th>\n",
       "    </tr>\n",
       "  </thead>\n",
       "  <tbody>\n",
       "    <tr>\n",
       "      <th>0-query</th>\n",
       "      <td>-53.882748</td>\n",
       "      <td>17.971436</td>\n",
       "      <td>-42.117104</td>\n",
       "      <td>-183.936680</td>\n",
       "      <td>187.517490</td>\n",
       "      <td>-87.144930</td>\n",
       "      <td>-347.360606</td>\n",
       "      <td>38.307602</td>\n",
       "      <td>109.085560</td>\n",
       "      <td>30.413513</td>\n",
       "      <td>...</td>\n",
       "      <td>70.107360</td>\n",
       "      <td>-155.80257</td>\n",
       "      <td>-101.965943</td>\n",
       "      <td>65.903790</td>\n",
       "      <td>34.457500</td>\n",
       "      <td>62.642094</td>\n",
       "      <td>134.763600</td>\n",
       "      <td>-415.750254</td>\n",
       "      <td>-25.958572</td>\n",
       "      <td>675816-base</td>\n",
       "    </tr>\n",
       "    <tr>\n",
       "      <th>1-query</th>\n",
       "      <td>-87.776370</td>\n",
       "      <td>6.806268</td>\n",
       "      <td>-32.054546</td>\n",
       "      <td>-177.260390</td>\n",
       "      <td>120.803330</td>\n",
       "      <td>-83.810590</td>\n",
       "      <td>-94.572749</td>\n",
       "      <td>-78.433090</td>\n",
       "      <td>124.915900</td>\n",
       "      <td>140.331070</td>\n",
       "      <td>...</td>\n",
       "      <td>4.669178</td>\n",
       "      <td>-151.69771</td>\n",
       "      <td>-1.638704</td>\n",
       "      <td>68.170876</td>\n",
       "      <td>25.096191</td>\n",
       "      <td>89.974976</td>\n",
       "      <td>130.589630</td>\n",
       "      <td>-1035.092211</td>\n",
       "      <td>-51.276833</td>\n",
       "      <td>366656-base</td>\n",
       "    </tr>\n",
       "    <tr>\n",
       "      <th>2-query</th>\n",
       "      <td>-49.979565</td>\n",
       "      <td>3.841486</td>\n",
       "      <td>-116.118590</td>\n",
       "      <td>-180.401980</td>\n",
       "      <td>190.128430</td>\n",
       "      <td>-50.837620</td>\n",
       "      <td>26.943937</td>\n",
       "      <td>-30.447489</td>\n",
       "      <td>125.771164</td>\n",
       "      <td>211.607820</td>\n",
       "      <td>...</td>\n",
       "      <td>78.039764</td>\n",
       "      <td>-169.14620</td>\n",
       "      <td>82.144186</td>\n",
       "      <td>66.008220</td>\n",
       "      <td>18.400496</td>\n",
       "      <td>212.409730</td>\n",
       "      <td>121.931470</td>\n",
       "      <td>-1074.464888</td>\n",
       "      <td>-22.547178</td>\n",
       "      <td>1447819-base</td>\n",
       "    </tr>\n",
       "    <tr>\n",
       "      <th>3-query</th>\n",
       "      <td>-47.810562</td>\n",
       "      <td>9.086598</td>\n",
       "      <td>-115.401695</td>\n",
       "      <td>-121.011360</td>\n",
       "      <td>94.652840</td>\n",
       "      <td>-109.255410</td>\n",
       "      <td>-775.150134</td>\n",
       "      <td>79.186520</td>\n",
       "      <td>124.003100</td>\n",
       "      <td>242.650650</td>\n",
       "      <td>...</td>\n",
       "      <td>44.515266</td>\n",
       "      <td>-145.41675</td>\n",
       "      <td>93.990981</td>\n",
       "      <td>64.131350</td>\n",
       "      <td>106.061920</td>\n",
       "      <td>83.178760</td>\n",
       "      <td>118.277725</td>\n",
       "      <td>-1074.464888</td>\n",
       "      <td>-19.902788</td>\n",
       "      <td>1472602-base</td>\n",
       "    </tr>\n",
       "    <tr>\n",
       "      <th>4-query</th>\n",
       "      <td>-79.632126</td>\n",
       "      <td>14.442886</td>\n",
       "      <td>-58.903397</td>\n",
       "      <td>-147.052540</td>\n",
       "      <td>57.127068</td>\n",
       "      <td>-16.239529</td>\n",
       "      <td>-321.317964</td>\n",
       "      <td>45.984676</td>\n",
       "      <td>125.941284</td>\n",
       "      <td>103.392670</td>\n",
       "      <td>...</td>\n",
       "      <td>45.028910</td>\n",
       "      <td>-196.09207</td>\n",
       "      <td>-117.626337</td>\n",
       "      <td>66.926220</td>\n",
       "      <td>42.456170</td>\n",
       "      <td>77.621765</td>\n",
       "      <td>92.479930</td>\n",
       "      <td>-1074.464888</td>\n",
       "      <td>-21.149351</td>\n",
       "      <td>717819-base</td>\n",
       "    </tr>\n",
       "    <tr>\n",
       "      <th>...</th>\n",
       "      <td>...</td>\n",
       "      <td>...</td>\n",
       "      <td>...</td>\n",
       "      <td>...</td>\n",
       "      <td>...</td>\n",
       "      <td>...</td>\n",
       "      <td>...</td>\n",
       "      <td>...</td>\n",
       "      <td>...</td>\n",
       "      <td>...</td>\n",
       "      <td>...</td>\n",
       "      <td>...</td>\n",
       "      <td>...</td>\n",
       "      <td>...</td>\n",
       "      <td>...</td>\n",
       "      <td>...</td>\n",
       "      <td>...</td>\n",
       "      <td>...</td>\n",
       "      <td>...</td>\n",
       "      <td>...</td>\n",
       "      <td>...</td>\n",
       "    </tr>\n",
       "    <tr>\n",
       "      <th>145-query</th>\n",
       "      <td>-62.481327</td>\n",
       "      <td>-3.771758</td>\n",
       "      <td>48.406754</td>\n",
       "      <td>-167.990300</td>\n",
       "      <td>161.537930</td>\n",
       "      <td>-49.935660</td>\n",
       "      <td>-468.924092</td>\n",
       "      <td>22.749538</td>\n",
       "      <td>135.620680</td>\n",
       "      <td>147.007840</td>\n",
       "      <td>...</td>\n",
       "      <td>73.193170</td>\n",
       "      <td>-189.32225</td>\n",
       "      <td>-83.163503</td>\n",
       "      <td>68.028275</td>\n",
       "      <td>82.152270</td>\n",
       "      <td>69.482210</td>\n",
       "      <td>126.385590</td>\n",
       "      <td>19.564841</td>\n",
       "      <td>-43.144620</td>\n",
       "      <td>456979-base</td>\n",
       "    </tr>\n",
       "    <tr>\n",
       "      <th>146-query</th>\n",
       "      <td>-65.843270</td>\n",
       "      <td>9.001141</td>\n",
       "      <td>-70.881270</td>\n",
       "      <td>-175.527540</td>\n",
       "      <td>-19.451431</td>\n",
       "      <td>-71.708830</td>\n",
       "      <td>102.433594</td>\n",
       "      <td>-3.618664</td>\n",
       "      <td>122.426750</td>\n",
       "      <td>69.749330</td>\n",
       "      <td>...</td>\n",
       "      <td>59.869225</td>\n",
       "      <td>-212.75787</td>\n",
       "      <td>126.632177</td>\n",
       "      <td>68.983610</td>\n",
       "      <td>-12.281605</td>\n",
       "      <td>262.175170</td>\n",
       "      <td>145.879990</td>\n",
       "      <td>-1074.464888</td>\n",
       "      <td>-98.430920</td>\n",
       "      <td>403693-base</td>\n",
       "    </tr>\n",
       "    <tr>\n",
       "      <th>147-query</th>\n",
       "      <td>-84.780205</td>\n",
       "      <td>14.570322</td>\n",
       "      <td>-104.969920</td>\n",
       "      <td>-129.717010</td>\n",
       "      <td>144.595930</td>\n",
       "      <td>-38.544266</td>\n",
       "      <td>30.393071</td>\n",
       "      <td>29.063778</td>\n",
       "      <td>125.708970</td>\n",
       "      <td>152.028320</td>\n",
       "      <td>...</td>\n",
       "      <td>4.918114</td>\n",
       "      <td>-214.39584</td>\n",
       "      <td>-130.156002</td>\n",
       "      <td>68.026760</td>\n",
       "      <td>-30.412083</td>\n",
       "      <td>118.322220</td>\n",
       "      <td>79.909960</td>\n",
       "      <td>-1074.464888</td>\n",
       "      <td>-44.365700</td>\n",
       "      <td>242933-base</td>\n",
       "    </tr>\n",
       "    <tr>\n",
       "      <th>148-query</th>\n",
       "      <td>-57.770924</td>\n",
       "      <td>3.330962</td>\n",
       "      <td>-89.582800</td>\n",
       "      <td>-110.916336</td>\n",
       "      <td>90.837880</td>\n",
       "      <td>-90.056210</td>\n",
       "      <td>-780.804487</td>\n",
       "      <td>49.865395</td>\n",
       "      <td>125.519640</td>\n",
       "      <td>160.152760</td>\n",
       "      <td>...</td>\n",
       "      <td>33.271020</td>\n",
       "      <td>-159.72888</td>\n",
       "      <td>127.363407</td>\n",
       "      <td>64.688520</td>\n",
       "      <td>30.897743</td>\n",
       "      <td>31.591930</td>\n",
       "      <td>126.163970</td>\n",
       "      <td>-1074.464888</td>\n",
       "      <td>14.493649</td>\n",
       "      <td>1569829-base</td>\n",
       "    </tr>\n",
       "    <tr>\n",
       "      <th>149-query</th>\n",
       "      <td>-32.192550</td>\n",
       "      <td>12.220500</td>\n",
       "      <td>-13.031769</td>\n",
       "      <td>-165.755940</td>\n",
       "      <td>52.348630</td>\n",
       "      <td>-75.491970</td>\n",
       "      <td>-295.800959</td>\n",
       "      <td>26.073853</td>\n",
       "      <td>113.978870</td>\n",
       "      <td>58.498870</td>\n",
       "      <td>...</td>\n",
       "      <td>54.823383</td>\n",
       "      <td>-200.56116</td>\n",
       "      <td>-155.295703</td>\n",
       "      <td>65.765335</td>\n",
       "      <td>17.185420</td>\n",
       "      <td>59.718400</td>\n",
       "      <td>139.941240</td>\n",
       "      <td>-512.068188</td>\n",
       "      <td>-61.196410</td>\n",
       "      <td>516187-base</td>\n",
       "    </tr>\n",
       "  </tbody>\n",
       "</table>\n",
       "<p>150 rows × 73 columns</p>\n",
       "</div>"
      ],
      "text/plain": [
       "                   0          1           2           3           4  \\\n",
       "Id                                                                    \n",
       "0-query   -53.882748  17.971436  -42.117104 -183.936680  187.517490   \n",
       "1-query   -87.776370   6.806268  -32.054546 -177.260390  120.803330   \n",
       "2-query   -49.979565   3.841486 -116.118590 -180.401980  190.128430   \n",
       "3-query   -47.810562   9.086598 -115.401695 -121.011360   94.652840   \n",
       "4-query   -79.632126  14.442886  -58.903397 -147.052540   57.127068   \n",
       "...              ...        ...         ...         ...         ...   \n",
       "145-query -62.481327  -3.771758   48.406754 -167.990300  161.537930   \n",
       "146-query -65.843270   9.001141  -70.881270 -175.527540  -19.451431   \n",
       "147-query -84.780205  14.570322 -104.969920 -129.717010  144.595930   \n",
       "148-query -57.770924   3.330962  -89.582800 -110.916336   90.837880   \n",
       "149-query -32.192550  12.220500  -13.031769 -165.755940   52.348630   \n",
       "\n",
       "                    5           6          7           8           9  ...  \\\n",
       "Id                                                                    ...   \n",
       "0-query    -87.144930 -347.360606  38.307602  109.085560   30.413513  ...   \n",
       "1-query    -83.810590  -94.572749 -78.433090  124.915900  140.331070  ...   \n",
       "2-query    -50.837620   26.943937 -30.447489  125.771164  211.607820  ...   \n",
       "3-query   -109.255410 -775.150134  79.186520  124.003100  242.650650  ...   \n",
       "4-query    -16.239529 -321.317964  45.984676  125.941284  103.392670  ...   \n",
       "...               ...         ...        ...         ...         ...  ...   \n",
       "145-query  -49.935660 -468.924092  22.749538  135.620680  147.007840  ...   \n",
       "146-query  -71.708830  102.433594  -3.618664  122.426750   69.749330  ...   \n",
       "147-query  -38.544266   30.393071  29.063778  125.708970  152.028320  ...   \n",
       "148-query  -90.056210 -780.804487  49.865395  125.519640  160.152760  ...   \n",
       "149-query  -75.491970 -295.800959  26.073853  113.978870   58.498870  ...   \n",
       "\n",
       "                  63         64          65         66          67  \\\n",
       "Id                                                                   \n",
       "0-query    70.107360 -155.80257 -101.965943  65.903790   34.457500   \n",
       "1-query     4.669178 -151.69771   -1.638704  68.170876   25.096191   \n",
       "2-query    78.039764 -169.14620   82.144186  66.008220   18.400496   \n",
       "3-query    44.515266 -145.41675   93.990981  64.131350  106.061920   \n",
       "4-query    45.028910 -196.09207 -117.626337  66.926220   42.456170   \n",
       "...              ...        ...         ...        ...         ...   \n",
       "145-query  73.193170 -189.32225  -83.163503  68.028275   82.152270   \n",
       "146-query  59.869225 -212.75787  126.632177  68.983610  -12.281605   \n",
       "147-query   4.918114 -214.39584 -130.156002  68.026760  -30.412083   \n",
       "148-query  33.271020 -159.72888  127.363407  64.688520   30.897743   \n",
       "149-query  54.823383 -200.56116 -155.295703  65.765335   17.185420   \n",
       "\n",
       "                   68          69           70         71        Target  \n",
       "Id                                                                       \n",
       "0-query     62.642094  134.763600  -415.750254 -25.958572   675816-base  \n",
       "1-query     89.974976  130.589630 -1035.092211 -51.276833   366656-base  \n",
       "2-query    212.409730  121.931470 -1074.464888 -22.547178  1447819-base  \n",
       "3-query     83.178760  118.277725 -1074.464888 -19.902788  1472602-base  \n",
       "4-query     77.621765   92.479930 -1074.464888 -21.149351   717819-base  \n",
       "...               ...         ...          ...        ...           ...  \n",
       "145-query   69.482210  126.385590    19.564841 -43.144620   456979-base  \n",
       "146-query  262.175170  145.879990 -1074.464888 -98.430920   403693-base  \n",
       "147-query  118.322220   79.909960 -1074.464888 -44.365700   242933-base  \n",
       "148-query   31.591930  126.163970 -1074.464888  14.493649  1569829-base  \n",
       "149-query   59.718400  139.941240  -512.068188 -61.196410   516187-base  \n",
       "\n",
       "[150 rows x 73 columns]"
      ]
     },
     "execution_count": 13,
     "metadata": {},
     "output_type": "execute_result"
    }
   ],
   "source": [
    "#df_train = pd.read_csv('/content/drive/MyDrive/Учёба /ранжирование/train.csv', index_col=0)\n",
    "df_train = pd.read_csv(\"E:/Project Jupyter/match/project range/train.csv\", index_col=0)\n",
    "df_train.head(150)"
   ]
  },
  {
   "cell_type": "code",
   "execution_count": 14,
   "metadata": {
    "colab": {
     "base_uri": "https://localhost:8080/"
    },
    "id": "d7qVNhKUgEHS",
    "outputId": "1bf07885-dfe4-4334-dc47-b584654f60ed"
   },
   "outputs": [
    {
     "data": {
      "text/plain": [
       "array([[ 0.16514791,  0.53313138,  0.95999588,  1.64042511, -1.17348095],\n",
       "       [ 1.0956955 ,  1.42818601,  1.27326396, -0.67289461, -0.15957401],\n",
       "       [ 1.54301548,  0.65092577, -1.78135922,  0.72614813,  0.68713577],\n",
       "       ...,\n",
       "       [-0.13001858,  0.42520828,  0.1853344 , -1.49477353,  0.08913552],\n",
       "       [-1.04714804, -1.36086799,  0.85477013,  0.94503191, -1.09106225],\n",
       "       [ 1.1493903 ,  1.54265158, -0.69638043, -1.00073039, -0.94000994]])"
      ]
     },
     "execution_count": 14,
     "metadata": {},
     "output_type": "execute_result"
    }
   ],
   "source": [
    "targets = df_train[\"Target\"]\n",
    "df_train.drop(\"Target\", axis=1, inplace=True)\n",
    "df_train = df_train.drop(columns=['21', '25', '70'])\n",
    "scaler.transform(df_train[numeric])"
   ]
  },
  {
   "cell_type": "code",
   "execution_count": 15,
   "metadata": {
    "colab": {
     "base_uri": "https://localhost:8080/"
    },
    "id": "4UvXtse8omB9",
    "outputId": "229f3a5e-5214-434a-f807-df354724767b"
   },
   "outputs": [
    {
     "data": {
      "text/plain": [
       "(100000, 69)"
      ]
     },
     "execution_count": 15,
     "metadata": {},
     "output_type": "execute_result"
    }
   ],
   "source": [
    "df_train.shape"
   ]
  },
  {
   "cell_type": "code",
   "execution_count": 16,
   "metadata": {
    "colab": {
     "base_uri": "https://localhost:8080/"
    },
    "id": "QJ-6R8pdgTJ-",
    "outputId": "12435c12-4a3c-448f-a065-1439d8a8a39b"
   },
   "outputs": [
    {
     "name": "stdout",
     "output_type": "stream",
     "text": [
      "Wall time: 6.15 s\n"
     ]
    }
   ],
   "source": [
    "%%time\n",
    "vecs, idx = idx_l2.search(np.ascontiguousarray(df_train.values).astype('float32'), 5)"
   ]
  },
  {
   "cell_type": "code",
   "execution_count": 17,
   "metadata": {
    "colab": {
     "base_uri": "https://localhost:8080/"
    },
    "id": "ubKqAemZgTMk",
    "outputId": "54de763d-1ea1-4ab1-d6b7-4c150ac21b93"
   },
   "outputs": [
    {
     "name": "stdout",
     "output_type": "stream",
     "text": [
      "57.873\n"
     ]
    }
   ],
   "source": [
    "acc = 0\n",
    "for target, el in zip(targets.values.tolist(), idx.tolist()):\n",
    "    acc += int(target in [base_index[r] for r in el])\n",
    "\n",
    "print(100 * acc / len(idx))"
   ]
  },
  {
   "cell_type": "markdown",
   "metadata": {},
   "source": [
    "**Вывод:**\n",
    "- при нормализации данных с использованием StandartScaler и количеством кластеров 500 время поиска составляет 5 сек, accuracy@5 = 58%. Неплохой результат попробуем его улучшить."
   ]
  },
  {
   "cell_type": "markdown",
   "metadata": {},
   "source": [
    "Попробуем использовать параметр .nprobe"
   ]
  },
  {
   "cell_type": "code",
   "execution_count": 19,
   "metadata": {},
   "outputs": [],
   "source": [
    "idx_l2.nprobe = 10"
   ]
  },
  {
   "cell_type": "code",
   "execution_count": 20,
   "metadata": {},
   "outputs": [
    {
     "name": "stdout",
     "output_type": "stream",
     "text": [
      "Wall time: 55 s\n"
     ]
    }
   ],
   "source": [
    "%%time\n",
    "vecs, idx = idx_l2.search(np.ascontiguousarray(df_train.values).astype('float32'), 5)"
   ]
  },
  {
   "cell_type": "code",
   "execution_count": 21,
   "metadata": {},
   "outputs": [
    {
     "name": "stdout",
     "output_type": "stream",
     "text": [
      "67.808\n"
     ]
    }
   ],
   "source": [
    "acc = 0\n",
    "for target, el in zip(targets.values.tolist(), idx.tolist()):\n",
    "    acc += int(target in [base_index[r] for r in el])\n",
    "\n",
    "print(100 * acc / len(idx))"
   ]
  },
  {
   "cell_type": "markdown",
   "metadata": {},
   "source": [
    "Метрика увеличилась на 10%, но время увеличилось до 55 сек.Попробуем увеличить еще."
   ]
  },
  {
   "cell_type": "code",
   "execution_count": 24,
   "metadata": {
    "id": "-7_9uspYomB-"
   },
   "outputs": [],
   "source": [
    "idx_l2.nprobe = 40"
   ]
  },
  {
   "cell_type": "code",
   "execution_count": 25,
   "metadata": {},
   "outputs": [
    {
     "name": "stdout",
     "output_type": "stream",
     "text": [
      "Wall time: 3min 34s\n"
     ]
    }
   ],
   "source": [
    "%%time\n",
    "vecs, idx = idx_l2.search(np.ascontiguousarray(df_train.values).astype('float32'), 5)"
   ]
  },
  {
   "cell_type": "code",
   "execution_count": 26,
   "metadata": {},
   "outputs": [
    {
     "name": "stdout",
     "output_type": "stream",
     "text": [
      "68.932\n"
     ]
    }
   ],
   "source": [
    "acc = 0\n",
    "for target, el in zip(targets.values.tolist(), idx.tolist()):\n",
    "    acc += int(target in [base_index[r] for r in el])\n",
    "\n",
    "print(100 * acc / len(idx))"
   ]
  },
  {
   "cell_type": "markdown",
   "metadata": {},
   "source": [
    "Время поиска увеличилось до трех минут.Но сама метрика увеличилась менее 1.5 %.Нет смысла увеличивать данный параметр далее. Попробуем другие способы."
   ]
  },
  {
   "cell_type": "markdown",
   "metadata": {},
   "source": [
    "## IndexIVFPQ"
   ]
  },
  {
   "cell_type": "code",
   "execution_count": 91,
   "metadata": {},
   "outputs": [],
   "source": [
    "m = 3  # количество центроидов  в окончательно сжатых векторах\n",
    "bits = 3 # количество бит в каждом центроиде\n",
    "n_cells_PQ = 500\n",
    "quantizer = faiss.IndexFlatL2(dims)  # мы сохраняем тот же  индекс расстояния L2\n",
    "idx_l2_PQ = faiss.IndexIVFPQ(quantizer, dims, n_cells_PQ, m, bits) "
   ]
  },
  {
   "cell_type": "code",
   "execution_count": 46,
   "metadata": {},
   "outputs": [],
   "source": [
    "idx_l2_PQ.train(np.ascontiguousarray(df_base.values[:50000, :]).astype('float32'))\n",
    "\n",
    "idx_l2_PQ.add(np.ascontiguousarray(df_base.values).astype('float32'))"
   ]
  },
  {
   "cell_type": "code",
   "execution_count": null,
   "metadata": {},
   "outputs": [],
   "source": []
  },
  {
   "cell_type": "code",
   "execution_count": 47,
   "metadata": {},
   "outputs": [],
   "source": [
    "idx_l2_PQ.nprobe = 10"
   ]
  },
  {
   "cell_type": "code",
   "execution_count": 48,
   "metadata": {},
   "outputs": [
    {
     "name": "stdout",
     "output_type": "stream",
     "text": [
      "Wall time: 44 s\n"
     ]
    }
   ],
   "source": [
    "%%time\n",
    "vecs, idx = idx_l2_PQ.search(np.ascontiguousarray(df_train.values).astype('float32'), 5)"
   ]
  },
  {
   "cell_type": "code",
   "execution_count": 49,
   "metadata": {},
   "outputs": [
    {
     "name": "stdout",
     "output_type": "stream",
     "text": [
      "21.862\n"
     ]
    }
   ],
   "source": [
    "acc = 0\n",
    "for target, el in zip(targets.values.tolist(), idx.tolist()):\n",
    "    acc += int(target in [base_index[r] for r in el])\n",
    "\n",
    "print(100 * acc / len(idx))"
   ]
  },
  {
   "cell_type": "markdown",
   "metadata": {},
   "source": [
    "Метрика значительно упала почти в 3 раза, что для задачи совсем не подходит.Время расчета снизилось возможно для каких-либо задач годится но не в нашем случае. Пропробуем уменьшить количество кластеров и посмотрим что будет\n"
   ]
  },
  {
   "cell_type": "code",
   "execution_count": 58,
   "metadata": {},
   "outputs": [],
   "source": [
    "n_cells_PQ = 100 #снижаем количество кластеров в 5 раз\n",
    "idx_l2_PQ = faiss.IndexIVFPQ(quantizer, dims, n_cells_PQ, m, bits) "
   ]
  },
  {
   "cell_type": "code",
   "execution_count": 59,
   "metadata": {},
   "outputs": [],
   "source": [
    "idx_l2_PQ.train(np.ascontiguousarray(df_base.values[:50000, :]).astype('float32'))\n",
    "\n",
    "idx_l2_PQ.add(np.ascontiguousarray(df_base.values).astype('float32'))"
   ]
  },
  {
   "cell_type": "code",
   "execution_count": 60,
   "metadata": {},
   "outputs": [],
   "source": [
    "idx_l2_PQ.nprobe = 10"
   ]
  },
  {
   "cell_type": "code",
   "execution_count": 61,
   "metadata": {},
   "outputs": [
    {
     "name": "stdout",
     "output_type": "stream",
     "text": [
      "Wall time: 55.6 s\n"
     ]
    }
   ],
   "source": [
    "%%time\n",
    "vecs, idx = idx_l2_PQ.search(np.ascontiguousarray(df_train.values).astype('float32'), 5)"
   ]
  },
  {
   "cell_type": "code",
   "execution_count": 62,
   "metadata": {},
   "outputs": [
    {
     "name": "stdout",
     "output_type": "stream",
     "text": [
      "8.666\n"
     ]
    }
   ],
   "source": [
    "acc = 0\n",
    "for target, el in zip(targets.values.tolist(), idx.tolist()):\n",
    "    acc += int(target in [base_index[r] for r in el])\n",
    "\n",
    "print(100 * acc / len(idx))"
   ]
  },
  {
   "cell_type": "markdown",
   "metadata": {},
   "source": [
    "Качество метрики снизилось еще больше, а время расчета увеличилось. Попробуем увеличить количество кластеров."
   ]
  },
  {
   "cell_type": "code",
   "execution_count": 64,
   "metadata": {},
   "outputs": [],
   "source": [
    "n_cells_PQ = 1000 #увеличиваем количество кластеров до 1000\n",
    "idx_l2_PQ = faiss.IndexIVFPQ(quantizer, dims, n_cells_PQ, m, bits) "
   ]
  },
  {
   "cell_type": "code",
   "execution_count": 65,
   "metadata": {},
   "outputs": [],
   "source": [
    "idx_l2_PQ.train(np.ascontiguousarray(df_base.values[:50000, :]).astype('float32'))\n",
    "\n",
    "idx_l2_PQ.add(np.ascontiguousarray(df_base.values).astype('float32'))"
   ]
  },
  {
   "cell_type": "code",
   "execution_count": 66,
   "metadata": {},
   "outputs": [],
   "source": [
    "idx_l2_PQ.nprobe = 10"
   ]
  },
  {
   "cell_type": "code",
   "execution_count": 67,
   "metadata": {},
   "outputs": [
    {
     "name": "stdout",
     "output_type": "stream",
     "text": [
      "Wall time: 5.74 s\n"
     ]
    }
   ],
   "source": [
    "%%time\n",
    "vecs, idx = idx_l2_PQ.search(np.ascontiguousarray(df_train.values).astype('float32'), 5)"
   ]
  },
  {
   "cell_type": "code",
   "execution_count": 68,
   "metadata": {},
   "outputs": [
    {
     "name": "stdout",
     "output_type": "stream",
     "text": [
      "27.923\n"
     ]
    }
   ],
   "source": [
    "acc = 0\n",
    "for target, el in zip(targets.values.tolist(), idx.tolist()):\n",
    "    acc += int(target in [base_index[r] for r in el])\n",
    "\n",
    "print(100 * acc / len(idx))"
   ]
  },
  {
   "cell_type": "markdown",
   "metadata": {},
   "source": [
    "Метрика немного увеличилась, а время расчета снизилось. Попробуем еще увеличить количество кластеров."
   ]
  },
  {
   "cell_type": "code",
   "execution_count": 70,
   "metadata": {},
   "outputs": [],
   "source": [
    "n_cells_PQ = 10000 #увеличиваем количество кластеров до 10000\n",
    "idx_l2_PQ = faiss.IndexIVFPQ(quantizer, dims, n_cells_PQ, m, bits) "
   ]
  },
  {
   "cell_type": "code",
   "execution_count": 71,
   "metadata": {},
   "outputs": [],
   "source": [
    "idx_l2_PQ.train(np.ascontiguousarray(df_base.values[:50000, :]).astype('float32'))\n",
    "\n",
    "idx_l2_PQ.add(np.ascontiguousarray(df_base.values).astype('float32'))"
   ]
  },
  {
   "cell_type": "code",
   "execution_count": 72,
   "metadata": {},
   "outputs": [],
   "source": [
    "idx_l2_PQ.nprobe = 10"
   ]
  },
  {
   "cell_type": "code",
   "execution_count": 73,
   "metadata": {},
   "outputs": [
    {
     "name": "stdout",
     "output_type": "stream",
     "text": [
      "Wall time: 2.81 s\n"
     ]
    }
   ],
   "source": [
    "%%time\n",
    "vecs, idx = idx_l2_PQ.search(np.ascontiguousarray(df_train.values).astype('float32'), 5)"
   ]
  },
  {
   "cell_type": "code",
   "execution_count": 74,
   "metadata": {},
   "outputs": [
    {
     "name": "stdout",
     "output_type": "stream",
     "text": [
      "40.746\n"
     ]
    }
   ],
   "source": [
    "acc = 0\n",
    "for target, el in zip(targets.values.tolist(), idx.tolist()):\n",
    "    acc += int(target in [base_index[r] for r in el])\n",
    "\n",
    "print(100 * acc / len(idx))"
   ]
  },
  {
   "cell_type": "markdown",
   "metadata": {},
   "source": [
    "Интересно что при увеличении количества кластеров данная метрика увеличивается, а время расчета снижается.Попробуем еще увеличить."
   ]
  },
  {
   "cell_type": "code",
   "execution_count": 75,
   "metadata": {},
   "outputs": [],
   "source": [
    "n_cells_PQ = 100000 #увеличиваем количество кластеров до 100000\n",
    "idx_l2_PQ = faiss.IndexIVFPQ(quantizer, dims, n_cells_PQ, m, bits) "
   ]
  },
  {
   "cell_type": "code",
   "execution_count": 78,
   "metadata": {},
   "outputs": [],
   "source": [
    "idx_l2_PQ.train(np.ascontiguousarray(df_base.values[:500000, :]).astype('float32'))\n",
    "\n",
    "idx_l2_PQ.add(np.ascontiguousarray(df_base.values).astype('float32'))"
   ]
  },
  {
   "cell_type": "code",
   "execution_count": 79,
   "metadata": {},
   "outputs": [],
   "source": [
    "idx_l2_PQ.nprobe = 10"
   ]
  },
  {
   "cell_type": "code",
   "execution_count": 80,
   "metadata": {},
   "outputs": [
    {
     "name": "stdout",
     "output_type": "stream",
     "text": [
      "Wall time: 18 s\n"
     ]
    }
   ],
   "source": [
    "%%time\n",
    "vecs, idx = idx_l2_PQ.search(np.ascontiguousarray(df_train.values).astype('float32'), 5)"
   ]
  },
  {
   "cell_type": "code",
   "execution_count": 81,
   "metadata": {},
   "outputs": [
    {
     "name": "stdout",
     "output_type": "stream",
     "text": [
      "55.985\n"
     ]
    }
   ],
   "source": [
    "acc = 0\n",
    "for target, el in zip(targets.values.tolist(), idx.tolist()):\n",
    "    acc += int(target in [base_index[r] for r in el])\n",
    "\n",
    "print(100 * acc / len(idx))"
   ]
  },
  {
   "cell_type": "markdown",
   "metadata": {},
   "source": [
    "Метрика увеличилась еще, но время на обучение самой модели значительно выросло.Попробуем изменить дополнительно другие параметры."
   ]
  },
  {
   "cell_type": "code",
   "execution_count": 120,
   "metadata": {},
   "outputs": [
    {
     "ename": "RuntimeError",
     "evalue": "Error in void __cdecl faiss::ProductQuantizer::set_derived_values(void) at D:\\a\\faiss-wheels\\faiss-wheels\\faiss\\faiss\\impl\\ProductQuantizer.cpp:61: Error: 'd % M == 0' failed: The dimension of the vector (d) should be a multiple of the number of subquantizers (M)",
     "output_type": "error",
     "traceback": [
      "\u001b[1;31m---------------------------------------------------------------------------\u001b[0m",
      "\u001b[1;31mRuntimeError\u001b[0m                              Traceback (most recent call last)",
      "\u001b[1;32m~\\AppData\\Local\\Temp\\ipykernel_2460\\2415613065.py\u001b[0m in \u001b[0;36m<module>\u001b[1;34m\u001b[0m\n\u001b[0;32m      1\u001b[0m \u001b[0mn_cells_PQ\u001b[0m \u001b[1;33m=\u001b[0m \u001b[1;36m100000\u001b[0m \u001b[1;31m#увеличиваем количество кластеров до 100000\u001b[0m\u001b[1;33m\u001b[0m\u001b[1;33m\u001b[0m\u001b[0m\n\u001b[1;32m----> 2\u001b[1;33m \u001b[0midx_l2_PQ\u001b[0m \u001b[1;33m=\u001b[0m \u001b[0mfaiss\u001b[0m\u001b[1;33m.\u001b[0m\u001b[0mIndexIVFPQ\u001b[0m\u001b[1;33m(\u001b[0m\u001b[0mquantizer\u001b[0m\u001b[1;33m,\u001b[0m \u001b[0mdims\u001b[0m\u001b[1;33m,\u001b[0m \u001b[0mn_cells_PQ\u001b[0m\u001b[1;33m,\u001b[0m \u001b[0mm\u001b[0m\u001b[1;33m,\u001b[0m \u001b[0mbits\u001b[0m\u001b[1;33m)\u001b[0m\u001b[1;33m\u001b[0m\u001b[1;33m\u001b[0m\u001b[0m\n\u001b[0m",
      "\u001b[1;32mD:\\a\\lib\\site-packages\\faiss\\__init__.py\u001b[0m in \u001b[0;36mreplacement_init\u001b[1;34m(self, *args)\u001b[0m\n\u001b[0;32m    120\u001b[0m \u001b[1;33m\u001b[0m\u001b[0m\n\u001b[0;32m    121\u001b[0m     \u001b[1;32mdef\u001b[0m \u001b[0mreplacement_init\u001b[0m\u001b[1;33m(\u001b[0m\u001b[0mself\u001b[0m\u001b[1;33m,\u001b[0m \u001b[1;33m*\u001b[0m\u001b[0margs\u001b[0m\u001b[1;33m)\u001b[0m\u001b[1;33m:\u001b[0m\u001b[1;33m\u001b[0m\u001b[1;33m\u001b[0m\u001b[0m\n\u001b[1;32m--> 122\u001b[1;33m         \u001b[0moriginal_init\u001b[0m\u001b[1;33m(\u001b[0m\u001b[0mself\u001b[0m\u001b[1;33m,\u001b[0m \u001b[1;33m*\u001b[0m\u001b[0margs\u001b[0m\u001b[1;33m)\u001b[0m\u001b[1;33m\u001b[0m\u001b[1;33m\u001b[0m\u001b[0m\n\u001b[0m\u001b[0;32m    123\u001b[0m         \u001b[0mself\u001b[0m\u001b[1;33m.\u001b[0m\u001b[0mreferenced_objects\u001b[0m \u001b[1;33m=\u001b[0m \u001b[1;33m[\u001b[0m\u001b[0margs\u001b[0m\u001b[1;33m[\u001b[0m\u001b[0mparameter_no\u001b[0m\u001b[1;33m]\u001b[0m\u001b[1;33m]\u001b[0m\u001b[1;33m\u001b[0m\u001b[1;33m\u001b[0m\u001b[0m\n\u001b[0;32m    124\u001b[0m \u001b[1;33m\u001b[0m\u001b[0m\n",
      "\u001b[1;32mD:\\a\\lib\\site-packages\\faiss\\swigfaiss.py\u001b[0m in \u001b[0;36m__init__\u001b[1;34m(self, *args)\u001b[0m\n\u001b[0;32m   7137\u001b[0m \u001b[1;33m\u001b[0m\u001b[0m\n\u001b[0;32m   7138\u001b[0m     \u001b[1;32mdef\u001b[0m \u001b[0m__init__\u001b[0m\u001b[1;33m(\u001b[0m\u001b[0mself\u001b[0m\u001b[1;33m,\u001b[0m \u001b[1;33m*\u001b[0m\u001b[0margs\u001b[0m\u001b[1;33m)\u001b[0m\u001b[1;33m:\u001b[0m\u001b[1;33m\u001b[0m\u001b[1;33m\u001b[0m\u001b[0m\n\u001b[1;32m-> 7139\u001b[1;33m         \u001b[0m_swigfaiss\u001b[0m\u001b[1;33m.\u001b[0m\u001b[0mIndexIVFPQ_swiginit\u001b[0m\u001b[1;33m(\u001b[0m\u001b[0mself\u001b[0m\u001b[1;33m,\u001b[0m \u001b[0m_swigfaiss\u001b[0m\u001b[1;33m.\u001b[0m\u001b[0mnew_IndexIVFPQ\u001b[0m\u001b[1;33m(\u001b[0m\u001b[1;33m*\u001b[0m\u001b[0margs\u001b[0m\u001b[1;33m)\u001b[0m\u001b[1;33m)\u001b[0m\u001b[1;33m\u001b[0m\u001b[1;33m\u001b[0m\u001b[0m\n\u001b[0m\u001b[0;32m   7140\u001b[0m     \u001b[0m__swig_destroy__\u001b[0m \u001b[1;33m=\u001b[0m \u001b[0m_swigfaiss\u001b[0m\u001b[1;33m.\u001b[0m\u001b[0mdelete_IndexIVFPQ\u001b[0m\u001b[1;33m\u001b[0m\u001b[1;33m\u001b[0m\u001b[0m\n\u001b[0;32m   7141\u001b[0m \u001b[1;33m\u001b[0m\u001b[0m\n",
      "\u001b[1;31mRuntimeError\u001b[0m: Error in void __cdecl faiss::ProductQuantizer::set_derived_values(void) at D:\\a\\faiss-wheels\\faiss-wheels\\faiss\\faiss\\impl\\ProductQuantizer.cpp:61: Error: 'd % M == 0' failed: The dimension of the vector (d) should be a multiple of the number of subquantizers (M)"
     ]
    }
   ],
   "source": [
    "n_cells_PQ = 100000 #увеличиваем количество кластеров до 100000\n",
    "idx_l2_PQ = faiss.IndexIVFPQ(quantizer, dims, n_cells_PQ, m, bits) "
   ]
  },
  {
   "cell_type": "code",
   "execution_count": null,
   "metadata": {},
   "outputs": [],
   "source": [
    "idx_l2_PQ.train(np.ascontiguousarray(df_base.values[:500000, :]).astype('float32'))\n",
    "\n",
    "idx_l2_PQ.add(np.ascontiguousarray(df_base.values).astype('float32'))"
   ]
  },
  {
   "cell_type": "code",
   "execution_count": null,
   "metadata": {},
   "outputs": [],
   "source": []
  },
  {
   "cell_type": "code",
   "execution_count": null,
   "metadata": {},
   "outputs": [],
   "source": [
    "%%time\n",
    "vecs, idx = idx_l2_PQ.search(np.ascontiguousarray(df_train.values).astype('float32'), 5)"
   ]
  },
  {
   "cell_type": "code",
   "execution_count": null,
   "metadata": {},
   "outputs": [],
   "source": [
    "acc = 0\n",
    "for target, el in zip(targets.values.tolist(), idx.tolist()):\n",
    "    acc += int(target in [base_index[r] for r in el])\n",
    "\n",
    "print(100 * acc / len(idx))"
   ]
  },
  {
   "cell_type": "markdown",
   "metadata": {},
   "source": [
    "## Создание тренировочного датасета для поиска соседей при помощи Catboost"
   ]
  },
  {
   "cell_type": "code",
   "execution_count": null,
   "metadata": {
    "id": "zdAhSXV5omB-"
   },
   "outputs": [],
   "source": [
    "#сохраняем индексы в списки\n",
    "idx1 = idx.tolist()\n",
    "indx_train = df_train.index.tolist()\n"
   ]
  },
  {
   "cell_type": "markdown",
   "metadata": {},
   "source": [
    "### Создаем список индексов из двух таблиц"
   ]
  },
  {
   "cell_type": "code",
   "execution_count": null,
   "metadata": {
    "colab": {
     "base_uri": "https://localhost:8080/",
     "height": 424
    },
    "id": "pQvKv4VZomB_",
    "outputId": "9829cd1a-44e6-438c-bd31-14c7fc3419db"
   },
   "outputs": [],
   "source": [
    "dic = []\n",
    "for i in range(len(indx_train)):\n",
    "    for j in range(len(idx1[i])):\n",
    "        dic.append([indx_train[i], idx1[i][j]])\n",
    "\n",
    "dic = pd.DataFrame(dic)\n",
    "dic"
   ]
  },
  {
   "cell_type": "markdown",
   "metadata": {},
   "source": [
    "**Достаем правильные индексы из base**"
   ]
  },
  {
   "cell_type": "code",
   "execution_count": null,
   "metadata": {
    "id": "PnlKwYENomB_"
   },
   "outputs": [],
   "source": [
    "def base_idx(row):\n",
    "    return base_index[row['B']]"
   ]
  },
  {
   "cell_type": "code",
   "execution_count": 121,
   "metadata": {
    "id": "QUJV9JAJomB_"
   },
   "outputs": [
    {
     "ename": "NameError",
     "evalue": "name 'dic' is not defined",
     "output_type": "error",
     "traceback": [
      "\u001b[1;31m---------------------------------------------------------------------------\u001b[0m",
      "\u001b[1;31mNameError\u001b[0m                                 Traceback (most recent call last)",
      "\u001b[1;32m~\\AppData\\Local\\Temp\\ipykernel_2460\\2749522965.py\u001b[0m in \u001b[0;36m<module>\u001b[1;34m\u001b[0m\n\u001b[1;32m----> 1\u001b[1;33m \u001b[0mindex\u001b[0m \u001b[1;33m=\u001b[0m \u001b[0mdic\u001b[0m\u001b[1;33m[\u001b[0m\u001b[1;36m1\u001b[0m\u001b[1;33m]\u001b[0m\u001b[1;33m.\u001b[0m\u001b[0mtolist\u001b[0m\u001b[1;33m(\u001b[0m\u001b[1;33m)\u001b[0m\u001b[1;33m\u001b[0m\u001b[1;33m\u001b[0m\u001b[0m\n\u001b[0m\u001b[0;32m      2\u001b[0m \u001b[0mdic\u001b[0m\u001b[1;33m.\u001b[0m\u001b[0mindex\u001b[0m \u001b[1;33m=\u001b[0m \u001b[0mindex\u001b[0m\u001b[1;33m\u001b[0m\u001b[1;33m\u001b[0m\u001b[0m\n",
      "\u001b[1;31mNameError\u001b[0m: name 'dic' is not defined"
     ]
    }
   ],
   "source": [
    "index = dic[1].tolist()\n",
    "dic.index = index"
   ]
  },
  {
   "cell_type": "code",
   "execution_count": null,
   "metadata": {
    "colab": {
     "base_uri": "https://localhost:8080/",
     "height": 206
    },
    "id": "SoDU5aqpomB_",
    "outputId": "5f5b4a2c-616e-4119-ebd3-91bc08de4e74"
   },
   "outputs": [],
   "source": [
    "\n",
    "dic.columns = ['A', 'B']\n",
    "\n",
    "dic['C'] = dic.apply(base_idx,axis=1)\n",
    "\n",
    "dic.head()"
   ]
  },
  {
   "cell_type": "code",
   "execution_count": 122,
   "metadata": {
    "id": "WcJh7yORomCA"
   },
   "outputs": [],
   "source": [
    "df_base['C'] = df_base.index\n",
    "\n",
    "#df_base['B'] = df_base['B'].str.strip('-base').astype(int)\n",
    "#df_base.head()"
   ]
  },
  {
   "cell_type": "code",
   "execution_count": 123,
   "metadata": {
    "id": "itcYgQLvomCA"
   },
   "outputs": [],
   "source": [
    "\n",
    "#df_base['B']=df_base['B'].astype(int)\n",
    "#dic['B']=dic['B'].astype(int)\n",
    "#df_base.info()"
   ]
  },
  {
   "cell_type": "code",
   "execution_count": 124,
   "metadata": {
    "colab": {
     "base_uri": "https://localhost:8080/"
    },
    "id": "wK_wyufAomCA",
    "outputId": "2bf196c8-1a7f-45da-af9f-92b06db3223f"
   },
   "outputs": [
    {
     "ename": "NameError",
     "evalue": "name 'dic' is not defined",
     "output_type": "error",
     "traceback": [
      "\u001b[1;31m---------------------------------------------------------------------------\u001b[0m",
      "\u001b[1;31mNameError\u001b[0m                                 Traceback (most recent call last)",
      "\u001b[1;32m~\\AppData\\Local\\Temp\\ipykernel_2460\\3884333474.py\u001b[0m in \u001b[0;36m<module>\u001b[1;34m\u001b[0m\n\u001b[1;32m----> 1\u001b[1;33m \u001b[0mdic\u001b[0m \u001b[1;33m=\u001b[0m \u001b[0mdic\u001b[0m\u001b[1;33m[\u001b[0m\u001b[1;33m[\u001b[0m\u001b[1;34m'A'\u001b[0m\u001b[1;33m,\u001b[0m\u001b[1;34m'C'\u001b[0m\u001b[1;33m]\u001b[0m\u001b[1;33m]\u001b[0m\u001b[1;33m\u001b[0m\u001b[1;33m\u001b[0m\u001b[0m\n\u001b[0m\u001b[0;32m      2\u001b[0m \u001b[0mdic\u001b[0m\u001b[1;33m.\u001b[0m\u001b[0minfo\u001b[0m\u001b[1;33m(\u001b[0m\u001b[1;33m)\u001b[0m\u001b[1;33m\u001b[0m\u001b[1;33m\u001b[0m\u001b[0m\n",
      "\u001b[1;31mNameError\u001b[0m: name 'dic' is not defined"
     ]
    }
   ],
   "source": [
    "dic = dic[['A','C']]\n",
    "dic.info()"
   ]
  },
  {
   "cell_type": "markdown",
   "metadata": {},
   "source": [
    "**Соединяем по индексам Train**"
   ]
  },
  {
   "cell_type": "code",
   "execution_count": null,
   "metadata": {
    "colab": {
     "base_uri": "https://localhost:8080/",
     "height": 617
    },
    "id": "RIgKlHpxomCA",
    "outputId": "d7b33c70-8172-4e71-9c84-ec793b7d1a8a"
   },
   "outputs": [],
   "source": [
    "#df_train = pd.read_csv('/content/drive/MyDrive/Учёба /ранжирование/train.csv', index_col=0)\n",
    "df_train = pd.read_csv(\"E:/Project Jupyter/match/project range/train.csv\", index_col=0)\n",
    "df_train = df_train.drop(columns=['21', '25', '70'])\n",
    "scaler.transform(df_train[numeric])\n",
    "new = dic.merge(df_train, how='inner', left_on='A', right_index =True)\n",
    "new"
   ]
  },
  {
   "cell_type": "code",
   "execution_count": null,
   "metadata": {
    "colab": {
     "base_uri": "https://localhost:8080/"
    },
    "id": "6U_Vanb5omCB",
    "outputId": "ab4a3ce3-af20-4714-89d7-95416a2ceb1f"
   },
   "outputs": [],
   "source": [
    "new.info()"
   ]
  },
  {
   "cell_type": "code",
   "execution_count": null,
   "metadata": {
    "id": "ctzU1dzxomCB"
   },
   "outputs": [],
   "source": [
    "#num=[]\n",
    "#for i in range(73,144):\n",
    "    #num.append(i)\n",
    "#num\n",
    "#new.columns=[num]"
   ]
  },
  {
   "cell_type": "code",
   "execution_count": null,
   "metadata": {
    "colab": {
     "base_uri": "https://localhost:8080/",
     "height": 617
    },
    "id": "qnH5N4PXomCB",
    "outputId": "b3b6c47b-9155-4e22-c1bb-59dafff01461"
   },
   "outputs": [],
   "source": [
    "new"
   ]
  },
  {
   "cell_type": "markdown",
   "metadata": {
    "id": "wC6D4Z7AomCB"
   },
   "source": [
    "**Соединяем по индексам base**"
   ]
  },
  {
   "cell_type": "code",
   "execution_count": null,
   "metadata": {
    "colab": {
     "base_uri": "https://localhost:8080/",
     "height": 617
    },
    "id": "XwyAoRfEomCC",
    "outputId": "295c3943-8b4f-42a7-ac5a-492b588612f2",
    "scrolled": false
   },
   "outputs": [],
   "source": [
    "#train_df1 = df_base.merge(new, on=['73'],\n",
    "     #how = 'inner', validate='1:m')\n",
    "df = new.merge(df_base,left_on='C',\n",
    "    right_on='C',how = 'left')\n",
    "df"
   ]
  },
  {
   "cell_type": "code",
   "execution_count": null,
   "metadata": {
    "colab": {
     "base_uri": "https://localhost:8080/"
    },
    "id": "grj5OeX-omCC",
    "outputId": "dace5ef5-a271-42fc-edf4-d835e2c7bdae"
   },
   "outputs": [],
   "source": [
    "df.info()"
   ]
  },
  {
   "cell_type": "markdown",
   "metadata": {},
   "source": [
    "**Создаем Ефргет для обучения**"
   ]
  },
  {
   "cell_type": "code",
   "execution_count": null,
   "metadata": {
    "colab": {
     "base_uri": "https://localhost:8080/"
    },
    "id": "Vnd5C62homCC",
    "outputId": "648d45f0-5298-4748-e819-98bde891671f"
   },
   "outputs": [],
   "source": [
    "df['new_target']=0\n",
    "df.loc[(df['C']==df['Target']),'new_target']=df.loc[(df['C']==df['Target']),'new_target'].apply(lambda x: 1)\n",
    "print('Количество положительных и отрицательных ответов:',df['new_target'].value_counts())"
   ]
  },
  {
   "cell_type": "code",
   "execution_count": 125,
   "metadata": {
    "colab": {
     "base_uri": "https://localhost:8080/"
    },
    "id": "JkyGKhT2omCD",
    "outputId": "267c41ac-3c53-4296-e84e-739fb6b52a21"
   },
   "outputs": [
    {
     "ename": "NameError",
     "evalue": "name 'df' is not defined",
     "output_type": "error",
     "traceback": [
      "\u001b[1;31m---------------------------------------------------------------------------\u001b[0m",
      "\u001b[1;31mNameError\u001b[0m                                 Traceback (most recent call last)",
      "\u001b[1;32m~\\AppData\\Local\\Temp\\ipykernel_2460\\3771845804.py\u001b[0m in \u001b[0;36m<module>\u001b[1;34m\u001b[0m\n\u001b[1;32m----> 1\u001b[1;33m \u001b[0mdf\u001b[0m\u001b[1;33m.\u001b[0m\u001b[0minfo\u001b[0m\u001b[1;33m(\u001b[0m\u001b[1;33m)\u001b[0m\u001b[1;33m\u001b[0m\u001b[1;33m\u001b[0m\u001b[0m\n\u001b[0m",
      "\u001b[1;31mNameError\u001b[0m: name 'df' is not defined"
     ]
    }
   ],
   "source": [
    "df.info()"
   ]
  },
  {
   "cell_type": "markdown",
   "metadata": {},
   "source": [
    "## Catboost"
   ]
  },
  {
   "cell_type": "code",
   "execution_count": null,
   "metadata": {
    "id": "Cr1dTsapomCD"
   },
   "outputs": [],
   "source": [
    "#model = CatBoostClassifier(iterations=200,\n",
    "    #learning_rate=0.15, class_weights=1/99)\n",
    "model = CatBoostClassifier(\n",
    "    iterations=150,\n",
    "    random_seed=43,\n",
    "    loss_function='MultiClass',\n",
    "    class_weights=1/99\n",
    "\n",
    ")\n",
    "\n"
   ]
  },
  {
   "cell_type": "code",
   "execution_count": null,
   "metadata": {
    "id": "1tP4P-LRomCD"
   },
   "outputs": [],
   "source": [
    "features_list = df.drop([\"Target\",'A','C'], axis=1).columns\n"
   ]
  },
  {
   "cell_type": "code",
   "execution_count": null,
   "metadata": {
    "colab": {
     "base_uri": "https://localhost:8080/"
    },
    "id": "PVtxXdHQomCE",
    "outputId": "d6ca27f8-10cd-4f77-9127-a6c4af4fdad6"
   },
   "outputs": [],
   "source": [
    "# Разделяем преобразованный датасет на выборки\n",
    "train_df, test_df  = train_test_split(df,\n",
    "                                      test_size = 0.3,\n",
    "                                      random_state = 777, shuffle=True)\n",
    "print(f\"Разделение на выборки | обучающий датасет: {train_df.shape[0]}, тестовый датасет: {test_df.shape[0]}\")\n"
   ]
  },
  {
   "cell_type": "code",
   "execution_count": null,
   "metadata": {
    "colab": {
     "base_uri": "https://localhost:8080/",
     "height": 34,
     "referenced_widgets": [
      "a967bedc12ca4ddb9766579bd9fbf380"
     ]
    },
    "id": "wUfBbtGEomCE",
    "outputId": "ddbc04c1-c3ed-479a-fd11-805be6082194"
   },
   "outputs": [],
   "source": [
    "model.fit(\n",
    "    train_df.drop([\"Target\",'A','C','new_target'], axis=1), train_df.new_target,\n",
    "    eval_set=(test_df.drop([\"Target\",'A','C','new_target'], axis=1), test_df.new_target),\n",
    "    verbose=False,\n",
    "    plot=True\n",
    ")\n",
    "importance = model.get_feature_importance\n",
    "importance"
   ]
  },
  {
   "cell_type": "code",
   "execution_count": null,
   "metadata": {
    "id": "19EPK7IZomCE"
   },
   "outputs": [],
   "source": []
  },
  {
   "cell_type": "code",
   "execution_count": null,
   "metadata": {
    "id": "S92rcCydomCE"
   },
   "outputs": [],
   "source": []
  },
  {
   "cell_type": "code",
   "execution_count": null,
   "metadata": {
    "id": "vW8k4TWUomCE"
   },
   "outputs": [],
   "source": [
    "def train_and_get_results(model, features, target, cv_folds):\n",
    "    '''\n",
    "    Обучает модель/пайплайн и выводит RMSE-ошибки на кросс-валидации\n",
    "    '''\n",
    "\n",
    "    accuraces = cross_val_score(model, features, target, scoring = 'accuracy', cv=cv_folds)\n",
    "    accuracy = accuraces.mean()*(-1)\n",
    "    f1_scores = cross_val_score(model, features, target, scoring = 'f1', cv=cv_folds)\n",
    "    f1_score = f1_scores.mean()*(-1)\n",
    "    precision_score = cross_val_score(model, features, target, scoring = 'precision', cv=cv_folds)\n",
    "    precision_scores = precision_score.mean()*(-1)\n",
    "    print(f\"accuraces (mean): {accuracy: .2f} | {accuraces * (-1)}\")\n",
    "    print(\"=======\")\n",
    "    print(f\"f1 score (mean): {f1_score: .3f}   | {f1_scores}\")\n",
    "    print(\"=======\")\n",
    "    print(f\"precision_score (mean):    {precision_scores: .3f}   | {precision_score}\")\n",
    "    print(\"=======\")"
   ]
  },
  {
   "cell_type": "code",
   "execution_count": null,
   "metadata": {
    "id": "VP08bhopomCE"
   },
   "outputs": [],
   "source": [
    "def testing_pipeline_crossval(model, features, target, cv_folds):\n",
    "    '''\n",
    "    Cоздает пайплайн (модель + кодирование)\n",
    "    выводит RMSE-ошибки и R2-score на кросс-валидации\n",
    "    '''\n",
    "    pipeline = Pipeline(steps=[\n",
    "                              #('encoder', encoding_pipeline),\n",
    "                              ('model', model)\n",
    "                        ])\n",
    "\n",
    "    accuraces = cross_val_score(pipeline, features, target, scoring = 'accuracy', cv=cv_folds).round(2)\n",
    "    accuracy = accuraces.mean()*(-1)\n",
    "\n",
    "    f1_scores = cross_val_score(pipeline, features, target, scoring = 'f1', cv=cv_folds).round(3)\n",
    "    f1_score = f1_scores.mean()\n",
    "    precision_score = cross_val_score(pipeline, features, target, scoring = 'precision', cv=cv_folds).round(3)\n",
    "    precision_scores = precision_score.mean()\n",
    "    print(f\"accuracy: {accuracy: .2f} | {accuraces * (-1)}\")\n",
    "    print(f\"R2 score:   {f1_score: .3f}   | {f1_scores}\")\n",
    "    print(f\"precision_score:   {precision_scores: .3f}   | {precision_score}\")\n",
    "    print(\"=======\")\n"
   ]
  },
  {
   "cell_type": "code",
   "execution_count": 126,
   "metadata": {
    "colab": {
     "base_uri": "https://localhost:8080/"
    },
    "id": "Cvo4XNBIomCE",
    "outputId": "3461164f-796f-46c3-be9e-35fb99408936"
   },
   "outputs": [
    {
     "ename": "NameError",
     "evalue": "name 'testing_pipeline_crossval' is not defined",
     "output_type": "error",
     "traceback": [
      "\u001b[1;31m---------------------------------------------------------------------------\u001b[0m",
      "\u001b[1;31mNameError\u001b[0m                                 Traceback (most recent call last)",
      "\u001b[1;32m~\\AppData\\Local\\Temp\\ipykernel_2460\\2461764235.py\u001b[0m in \u001b[0;36m<module>\u001b[1;34m\u001b[0m\n\u001b[1;32m----> 1\u001b[1;33m \u001b[0mtesting_pipeline_crossval\u001b[0m\u001b[1;33m(\u001b[0m\u001b[0mmodel\u001b[0m\u001b[1;33m,\u001b[0m \u001b[0mtrain_df\u001b[0m\u001b[1;33m.\u001b[0m\u001b[0mdrop\u001b[0m\u001b[1;33m(\u001b[0m\u001b[1;33m[\u001b[0m\u001b[1;34m\"Target\"\u001b[0m\u001b[1;33m,\u001b[0m\u001b[1;34m'A'\u001b[0m\u001b[1;33m,\u001b[0m\u001b[1;34m'C'\u001b[0m\u001b[1;33m,\u001b[0m\u001b[1;34m'new_target'\u001b[0m\u001b[1;33m]\u001b[0m\u001b[1;33m,\u001b[0m \u001b[0maxis\u001b[0m\u001b[1;33m=\u001b[0m\u001b[1;36m1\u001b[0m\u001b[1;33m)\u001b[0m\u001b[1;33m,\u001b[0m \u001b[0mtrain_df\u001b[0m\u001b[1;33m.\u001b[0m\u001b[0mnew_target\u001b[0m\u001b[1;33m,\u001b[0m \u001b[1;36m3\u001b[0m\u001b[1;33m)\u001b[0m\u001b[1;33m\u001b[0m\u001b[1;33m\u001b[0m\u001b[0m\n\u001b[0m",
      "\u001b[1;31mNameError\u001b[0m: name 'testing_pipeline_crossval' is not defined"
     ]
    }
   ],
   "source": [
    "testing_pipeline_crossval(model, train_df.drop([\"Target\",'A','C','new_target'], axis=1), train_df.new_target, 3)"
   ]
  },
  {
   "cell_type": "code",
   "execution_count": null,
   "metadata": {
    "id": "BZRFMBU0omCF"
   },
   "outputs": [],
   "source": [
    "# Подготовка диапазонов гиперпараметров\n",
    "\n",
    "n_estimators = [int(x) for x in np.linspace(start = 20, stop = 120, num = 20)]\n",
    "\n",
    "max_features = ['auto', 'sqrt', 'log2']\n",
    "\n",
    "max_depth = [int(x) for x in np.linspace(10, 60, num = 10)]\n",
    "# max_depth.append(None)\n",
    "\n",
    "min_samples_split = [2, 5, 10]\n",
    "\n",
    "min_samples_leaf = list(range(1, 11))\n",
    "\n",
    "random_grid = {\n",
    "               'model__n_estimators': n_estimators,\n",
    "               'model__max_features': max_features,\n",
    "               'model__max_depth': max_depth,\n",
    "               'model__min_samples_split': min_samples_split,\n",
    "               'model__min_samples_leaf': min_samples_leaf\n",
    "}"
   ]
  },
  {
   "cell_type": "code",
   "execution_count": null,
   "metadata": {
    "colab": {
     "base_uri": "https://localhost:8080/",
     "height": 1000
    },
    "id": "lRG1STPxomCF",
    "outputId": "e27c387d-b1d8-432e-f41b-acadaf262bcc"
   },
   "outputs": [],
   "source": [
    "# Обучение моделей в пайплайне с кодированием и поиск лучших гиперпараметров\n",
    "#rf_random = RandomizedSearchCV(estimator = model,\n",
    "                               #param_distributions = random_grid,\n",
    "                               #n_iter = 30,\n",
    "                               #cv = 2,\n",
    "                               #verbose=2,\n",
    "                               #random_state=42,\n",
    "                               #n_jobs = 3)\n",
    "\n",
    "#rf_random.fit(train_df.drop('Target', axis=1), train_df.Target)\n",
    "#print()\n"
   ]
  },
  {
   "cell_type": "code",
   "execution_count": null,
   "metadata": {
    "id": "8Sgu0CeXomCF"
   },
   "outputs": [],
   "source": [
    "#print(\"Лучшие гиперпараметры, найденные с помощью RandomizedSearch\")\n",
    "#rf_random.best_params_"
   ]
  },
  {
   "cell_type": "code",
   "execution_count": null,
   "metadata": {
    "id": "OzzjN7WBomCG"
   },
   "outputs": [],
   "source": [
    "#заполнить\n",
    "#rf_best_model = RandomForestRegressor(\n",
    "    #n_estimators = 35,\n",
    "    #min_samples_split = 5,\n",
    "    #min_samples_leaf= 1,\n",
    "    #max_features = 'auto',\n",
    "    #max_depth=54)\n"
   ]
  },
  {
   "cell_type": "code",
   "execution_count": null,
   "metadata": {
    "id": "eqqF-7KdvWul"
   },
   "outputs": [],
   "source": [
    "parameters = {'depth'         : [4,5,6,7,8,9, 10],\n",
    "                 'learning_rate' : [0.01,0.02,0.03,0.04],\n",
    "                  'iterations'    : [10, 20,30,40,50,60,70,80,90, 100]\n",
    "                 }\n",
    "\n"
   ]
  },
  {
   "cell_type": "code",
   "execution_count": null,
   "metadata": {
    "id": "ZVxRbfoKvbQh"
   },
   "outputs": [],
   "source": [
    "Grid_CBC = GridSearchCV(estimator=model, param_grid = parameters, cv = 2, n_jobs=-1)\n",
    "Grid_CBC.fit(train_df.drop([\"Target\",'A','C','new_target'], axis=1), train_df.new_target)"
   ]
  },
  {
   "cell_type": "code",
   "execution_count": null,
   "metadata": {
    "id": "ZO1avlh-vfUA"
   },
   "outputs": [],
   "source": [
    "print(\" Results from Grid Search \" )\n",
    "    print(\"\\n The best estimator across ALL searched params:\\n\",Grid_CBC.best_estimator_)\n",
    "    print(\"\\n The best score across ALL searched params:\\n\",Grid_CBC.best_score_)\n",
    "    print(\"\\n The best parameters across ALL searched params:\\n\",Grid_CBC.best_params_)"
   ]
  },
  {
   "cell_type": "code",
   "execution_count": null,
   "metadata": {},
   "outputs": [],
   "source": []
  }
 ],
 "metadata": {
  "colab": {
   "provenance": []
  },
  "kernelspec": {
   "display_name": "Python 3 (ipykernel)",
   "language": "python",
   "name": "python3"
  },
  "language_info": {
   "codemirror_mode": {
    "name": "ipython",
    "version": 3
   },
   "file_extension": ".py",
   "mimetype": "text/x-python",
   "name": "python",
   "nbconvert_exporter": "python",
   "pygments_lexer": "ipython3",
   "version": "3.9.13"
  },
  "widgets": {
   "application/vnd.jupyter.widget-state+json": {
    "a967bedc12ca4ddb9766579bd9fbf380": {
     "model_module": "catboost-widget",
     "model_module_version": "^1.0.0",
     "model_name": "CatboostWidgetModel",
     "state": {
      "_dom_classes": [],
      "_model_module": "catboost-widget",
      "_model_module_version": "^1.0.0",
      "_model_name": "CatboostWidgetModel",
      "_view_count": null,
      "_view_module": "catboost-widget",
      "_view_module_version": "^1.0.0",
      "_view_name": "CatboostWidgetView",
      "data": {
       "catboost_info": {
        "content": {
         "data": {
          "iterations": [
           {
            "iteration": 0,
            "learn": [
             0.5612458803
            ],
            "passed_time": 1.476809527,
            "remaining_time": 220.0446196,
            "test": [
             0.5613078264
            ]
           },
           {
            "iteration": 1,
            "learn": [
             0.4810884175
            ],
            "passed_time": 2.582775555,
            "remaining_time": 191.1253911,
            "test": [
             0.4811317099
            ]
           },
           {
            "iteration": 2,
            "learn": [
             0.4312894718
            ],
            "passed_time": 3.482015974,
            "remaining_time": 170.6187827,
            "test": [
             0.4313614445
            ]
           },
           {
            "iteration": 3,
            "learn": [
             0.3984380539
            ],
            "passed_time": 4.565305549,
            "remaining_time": 166.6336526,
            "test": [
             0.398547934
            ]
           },
           {
            "iteration": 4,
            "learn": [
             0.3745147472
            ],
            "passed_time": 5.269900049,
            "remaining_time": 152.8271014,
            "test": [
             0.3746240237
            ]
           },
           {
            "iteration": 5,
            "learn": [
             0.358856648
            ],
            "passed_time": 5.846103872,
            "remaining_time": 140.3064929,
            "test": [
             0.3589927698
            ]
           },
           {
            "iteration": 6,
            "learn": [
             0.3469386262
            ],
            "passed_time": 6.476100965,
            "remaining_time": 132.2974911,
            "test": [
             0.3470992036
            ]
           },
           {
            "iteration": 7,
            "learn": [
             0.3385439891
            ],
            "passed_time": 6.998344283,
            "remaining_time": 124.220611,
            "test": [
             0.3386620186
            ]
           },
           {
            "iteration": 8,
            "learn": [
             0.3335715472
            ],
            "passed_time": 7.679530245,
            "remaining_time": 120.3126405,
            "test": [
             0.3337124317
            ]
           },
           {
            "iteration": 9,
            "learn": [
             0.3274009552
            ],
            "passed_time": 8.21849364,
            "remaining_time": 115.058911,
            "test": [
             0.3275453498
            ]
           },
           {
            "iteration": 10,
            "learn": [
             0.3228758503
            ],
            "passed_time": 8.902719419,
            "remaining_time": 112.4979999,
            "test": [
             0.3230153669
            ]
           },
           {
            "iteration": 11,
            "learn": [
             0.3170823154
            ],
            "passed_time": 9.450546912,
            "remaining_time": 108.6812895,
            "test": [
             0.3172316329
            ]
           },
           {
            "iteration": 12,
            "learn": [
             0.3145570725
            ],
            "passed_time": 9.930068817,
            "remaining_time": 104.6476483,
            "test": [
             0.3147605793
            ]
           },
           {
            "iteration": 13,
            "learn": [
             0.3119303532
            ],
            "passed_time": 10.33550366,
            "remaining_time": 100.4020355,
            "test": [
             0.3122235643
            ]
           },
           {
            "iteration": 14,
            "learn": [
             0.3080399938
            ],
            "passed_time": 10.92673229,
            "remaining_time": 98.34059064,
            "test": [
             0.3083080205
            ]
           },
           {
            "iteration": 15,
            "learn": [
             0.3056532382
            ],
            "passed_time": 11.62340708,
            "remaining_time": 97.34603426,
            "test": [
             0.3058187753
            ]
           },
           {
            "iteration": 16,
            "learn": [
             0.2994762004
            ],
            "passed_time": 12.30203028,
            "remaining_time": 96.24529572,
            "test": [
             0.2996002077
            ]
           },
           {
            "iteration": 17,
            "learn": [
             0.2951384333
            ],
            "passed_time": 12.89529486,
            "remaining_time": 94.56549564,
            "test": [
             0.2952779154
            ]
           },
           {
            "iteration": 18,
            "learn": [
             0.2904065725
            ],
            "passed_time": 13.53332313,
            "remaining_time": 93.3087016,
            "test": [
             0.2906241008
            ]
           },
           {
            "iteration": 19,
            "learn": [
             0.2831064673
            ],
            "passed_time": 14.13756682,
            "remaining_time": 91.89418435,
            "test": [
             0.2832364499
            ]
           },
           {
            "iteration": 20,
            "learn": [
             0.2783619373
            ],
            "passed_time": 14.61476035,
            "remaining_time": 89.77638502,
            "test": [
             0.2785740589
            ]
           },
           {
            "iteration": 21,
            "learn": [
             0.274229851
            ],
            "passed_time": 15.79004962,
            "remaining_time": 91.86937963,
            "test": [
             0.2743576461
            ]
           },
           {
            "iteration": 22,
            "learn": [
             0.2718321408
            ],
            "passed_time": 16.83626739,
            "remaining_time": 92.96547645,
            "test": [
             0.272023068
            ]
           },
           {
            "iteration": 23,
            "learn": [
             0.2708504141
            ],
            "passed_time": 17.96036848,
            "remaining_time": 94.29193453,
            "test": [
             0.2710399602
            ]
           },
           {
            "iteration": 24,
            "learn": [
             0.2693182863
            ],
            "passed_time": 18.92430047,
            "remaining_time": 94.62150233,
            "test": [
             0.2694942541
            ]
           },
           {
            "iteration": 25,
            "learn": [
             0.2652785024
            ],
            "passed_time": 19.8882075,
            "remaining_time": 94.85145117,
            "test": [
             0.2654655441
            ]
           },
           {
            "iteration": 26,
            "learn": [
             0.2630388349
            ],
            "passed_time": 20.43418952,
            "remaining_time": 93.08908559,
            "test": [
             0.2631834941
            ]
           },
           {
            "iteration": 27,
            "learn": [
             0.2602285779
            ],
            "passed_time": 20.97657799,
            "remaining_time": 91.39794694,
            "test": [
             0.2605275744
            ]
           },
           {
            "iteration": 28,
            "learn": [
             0.2570586468
            ],
            "passed_time": 21.56836654,
            "remaining_time": 89.99215006,
            "test": [
             0.2574393831
            ]
           },
           {
            "iteration": 29,
            "learn": [
             0.2536353014
            ],
            "passed_time": 22.07506676,
            "remaining_time": 88.30026705,
            "test": [
             0.2540224515
            ]
           },
           {
            "iteration": 30,
            "learn": [
             0.2495791962
            ],
            "passed_time": 22.66899784,
            "remaining_time": 87.01970137,
            "test": [
             0.2500174839
            ]
           },
           {
            "iteration": 31,
            "learn": [
             0.2442041753
            ],
            "passed_time": 23.35347825,
            "remaining_time": 86.11595106,
            "test": [
             0.2445891957
            ]
           },
           {
            "iteration": 32,
            "learn": [
             0.2406579337
            ],
            "passed_time": 23.85637941,
            "remaining_time": 84.58170881,
            "test": [
             0.2410258826
            ]
           },
           {
            "iteration": 33,
            "learn": [
             0.2377983534
            ],
            "passed_time": 24.44418485,
            "remaining_time": 83.39780714,
            "test": [
             0.2381952232
            ]
           },
           {
            "iteration": 34,
            "learn": [
             0.2362056284
            ],
            "passed_time": 25.06395814,
            "remaining_time": 82.35300533,
            "test": [
             0.2366127574
            ]
           },
           {
            "iteration": 35,
            "learn": [
             0.2336257594
            ],
            "passed_time": 25.63042024,
            "remaining_time": 81.16299743,
            "test": [
             0.2339620438
            ]
           },
           {
            "iteration": 36,
            "learn": [
             0.2311601922
            ],
            "passed_time": 26.24331437,
            "remaining_time": 80.14850064,
            "test": [
             0.23150338
            ]
           },
           {
            "iteration": 37,
            "learn": [
             0.2284608866
            ],
            "passed_time": 26.88388292,
            "remaining_time": 79.23670756,
            "test": [
             0.2287367472
            ]
           },
           {
            "iteration": 38,
            "learn": [
             0.2263890396
            ],
            "passed_time": 27.55078504,
            "remaining_time": 78.41377281,
            "test": [
             0.2266875662
            ]
           },
           {
            "iteration": 39,
            "learn": [
             0.2238021576
            ],
            "passed_time": 28.13079808,
            "remaining_time": 77.35969471,
            "test": [
             0.2240989728
            ]
           },
           {
            "iteration": 40,
            "learn": [
             0.2229338611
            ],
            "passed_time": 28.65470551,
            "remaining_time": 76.17958294,
            "test": [
             0.2232277227
            ]
           },
           {
            "iteration": 41,
            "learn": [
             0.2209774058
            ],
            "passed_time": 29.18449528,
            "remaining_time": 75.04584501,
            "test": [
             0.2212655846
            ]
           },
           {
            "iteration": 42,
            "learn": [
             0.2186101987
            ],
            "passed_time": 29.77856676,
            "remaining_time": 74.10015449,
            "test": [
             0.2188340383
            ]
           },
           {
            "iteration": 43,
            "learn": [
             0.217515686
            ],
            "passed_time": 30.6703537,
            "remaining_time": 73.88767027,
            "test": [
             0.2177777311
            ]
           },
           {
            "iteration": 44,
            "learn": [
             0.2155672637
            ],
            "passed_time": 31.77935176,
            "remaining_time": 74.15182077,
            "test": [
             0.2158610049
            ]
           },
           {
            "iteration": 45,
            "learn": [
             0.214806477
            ],
            "passed_time": 32.54332748,
            "remaining_time": 73.57621865,
            "test": [
             0.2151043523
            ]
           },
           {
            "iteration": 46,
            "learn": [
             0.2122724624
            ],
            "passed_time": 33.87115404,
            "remaining_time": 74.22827376,
            "test": [
             0.2126544374
            ]
           },
           {
            "iteration": 47,
            "learn": [
             0.2106841762
            ],
            "passed_time": 34.91978571,
            "remaining_time": 74.20454464,
            "test": [
             0.2110723665
            ]
           },
           {
            "iteration": 48,
            "learn": [
             0.2098567804
            ],
            "passed_time": 35.43648077,
            "remaining_time": 73.042542,
            "test": [
             0.2102626993
            ]
           },
           {
            "iteration": 49,
            "learn": [
             0.2076270832
            ],
            "passed_time": 36.17371842,
            "remaining_time": 72.34743685,
            "test": [
             0.2081024065
            ]
           },
           {
            "iteration": 50,
            "learn": [
             0.2064821586
            ],
            "passed_time": 36.63342028,
            "remaining_time": 71.11193349,
            "test": [
             0.2070286422
            ]
           },
           {
            "iteration": 51,
            "learn": [
             0.2043332505
            ],
            "passed_time": 37.2413489,
            "remaining_time": 70.18561909,
            "test": [
             0.2048888118
            ]
           },
           {
            "iteration": 52,
            "learn": [
             0.2018055931
            ],
            "passed_time": 37.76018636,
            "remaining_time": 69.1082656,
            "test": [
             0.2022747657
            ]
           },
           {
            "iteration": 53,
            "learn": [
             0.2006853056
            ],
            "passed_time": 38.40988106,
            "remaining_time": 68.284233,
            "test": [
             0.2011756938
            ]
           },
           {
            "iteration": 54,
            "learn": [
             0.1995221748
            ],
            "passed_time": 38.96333503,
            "remaining_time": 67.30030596,
            "test": [
             0.1999730337
            ]
           },
           {
            "iteration": 55,
            "learn": [
             0.1990302744
            ],
            "passed_time": 39.5434396,
            "remaining_time": 66.37648791,
            "test": [
             0.1995220508
            ]
           },
           {
            "iteration": 56,
            "learn": [
             0.1985086915
            ],
            "passed_time": 39.99009264,
            "remaining_time": 65.24699326,
            "test": [
             0.1990048058
            ]
           },
           {
            "iteration": 57,
            "learn": [
             0.1964043782
            ],
            "passed_time": 40.71761503,
            "remaining_time": 64.58656177,
            "test": [
             0.1969517964
            ]
           },
           {
            "iteration": 58,
            "learn": [
             0.1958348859
            ],
            "passed_time": 41.22813187,
            "remaining_time": 63.58915255,
            "test": [
             0.1964359261
            ]
           },
           {
            "iteration": 59,
            "learn": [
             0.1950834273
            ],
            "passed_time": 41.77525542,
            "remaining_time": 62.66288313,
            "test": [
             0.195689903
            ]
           },
           {
            "iteration": 60,
            "learn": [
             0.1939036364
            ],
            "passed_time": 42.30188113,
            "remaining_time": 61.71913804,
            "test": [
             0.1946046832
            ]
           },
           {
            "iteration": 61,
            "learn": [
             0.1929392942
            ],
            "passed_time": 43.01856434,
            "remaining_time": 61.05860746,
            "test": [
             0.1936649099
            ]
           },
           {
            "iteration": 62,
            "learn": [
             0.19174473
            ],
            "passed_time": 43.51623084,
            "remaining_time": 60.09384258,
            "test": [
             0.1925057609
            ]
           },
           {
            "iteration": 63,
            "learn": [
             0.1903577892
            ],
            "passed_time": 44.14738616,
            "remaining_time": 59.32305016,
            "test": [
             0.191168678
            ]
           },
           {
            "iteration": 64,
            "learn": [
             0.1899151882
            ],
            "passed_time": 44.53534686,
            "remaining_time": 58.23853051,
            "test": [
             0.1907753334
            ]
           },
           {
            "iteration": 65,
            "learn": [
             0.1885009979
            ],
            "passed_time": 45.43595617,
            "remaining_time": 57.82758058,
            "test": [
             0.1894047541
            ]
           },
           {
            "iteration": 66,
            "learn": [
             0.1876556656
            ],
            "passed_time": 46.47502328,
            "remaining_time": 57.57353631,
            "test": [
             0.1886310311
            ]
           },
           {
            "iteration": 67,
            "learn": [
             0.1873564217
            ],
            "passed_time": 47.1514932,
            "remaining_time": 56.85915356,
            "test": [
             0.1883498762
            ]
           },
           {
            "iteration": 68,
            "learn": [
             0.1865485071
            ],
            "passed_time": 48.32887698,
            "remaining_time": 56.73389907,
            "test": [
             0.1875780733
            ]
           },
           {
            "iteration": 69,
            "learn": [
             0.1860014791
            ],
            "passed_time": 49.33785973,
            "remaining_time": 56.3861254,
            "test": [
             0.1870793567
            ]
           },
           {
            "iteration": 70,
            "learn": [
             0.1853785278
            ],
            "passed_time": 50.15062873,
            "remaining_time": 55.8014038,
            "test": [
             0.1864547779
            ]
           },
           {
            "iteration": 71,
            "learn": [
             0.1846124557
            ],
            "passed_time": 50.66795688,
            "remaining_time": 54.89028662,
            "test": [
             0.1857213445
            ]
           },
           {
            "iteration": 72,
            "learn": [
             0.1838241766
            ],
            "passed_time": 51.18591268,
            "remaining_time": 53.99062022,
            "test": [
             0.1849073881
            ]
           },
           {
            "iteration": 73,
            "learn": [
             0.1831548866
            ],
            "passed_time": 51.82837333,
            "remaining_time": 53.22914018,
            "test": [
             0.1842498006
            ]
           },
           {
            "iteration": 74,
            "learn": [
             0.1829231181
            ],
            "passed_time": 52.22557267,
            "remaining_time": 52.22557267,
            "test": [
             0.1840712732
            ]
           },
           {
            "iteration": 75,
            "learn": [
             0.1824503081
            ],
            "passed_time": 52.77040258,
            "remaining_time": 51.38170777,
            "test": [
             0.1836105541
            ]
           },
           {
            "iteration": 76,
            "learn": [
             0.1819438579
            ],
            "passed_time": 53.21648313,
            "remaining_time": 50.4519905,
            "test": [
             0.1831495065
            ]
           },
           {
            "iteration": 77,
            "learn": [
             0.1814548464
            ],
            "passed_time": 53.69333805,
            "remaining_time": 49.56308128,
            "test": [
             0.1827025388
            ]
           },
           {
            "iteration": 78,
            "learn": [
             0.1793092943
            ],
            "passed_time": 54.43225202,
            "remaining_time": 48.92012523,
            "test": [
             0.1804709227
            ]
           },
           {
            "iteration": 79,
            "learn": [
             0.1788078126
            ],
            "passed_time": 54.8475763,
            "remaining_time": 47.99162926,
            "test": [
             0.1799280743
            ]
           },
           {
            "iteration": 80,
            "learn": [
             0.1782303045
            ],
            "passed_time": 55.28078651,
            "remaining_time": 47.09104036,
            "test": [
             0.1793657063
            ]
           },
           {
            "iteration": 81,
            "learn": [
             0.1772402481
            ],
            "passed_time": 55.97946465,
            "remaining_time": 46.42199507,
            "test": [
             0.1784161649
            ]
           },
           {
            "iteration": 82,
            "learn": [
             0.1765748784
            ],
            "passed_time": 56.62462605,
            "remaining_time": 45.70903549,
            "test": [
             0.1777429242
            ]
           },
           {
            "iteration": 83,
            "learn": [
             0.1761131463
            ],
            "passed_time": 57.11069018,
            "remaining_time": 44.87268515,
            "test": [
             0.1773265239
            ]
           },
           {
            "iteration": 84,
            "learn": [
             0.175930466
            ],
            "passed_time": 57.54345845,
            "remaining_time": 44.00382117,
            "test": [
             0.1771866608
            ]
           },
           {
            "iteration": 85,
            "learn": [
             0.175300715
            ],
            "passed_time": 57.99118717,
            "remaining_time": 43.15623231,
            "test": [
             0.176621891
            ]
           },
           {
            "iteration": 86,
            "learn": [
             0.1743847891
            ],
            "passed_time": 58.64630617,
            "remaining_time": 42.46801481,
            "test": [
             0.1757258517
            ]
           },
           {
            "iteration": 87,
            "learn": [
             0.1738070994
            ],
            "passed_time": 59.15577271,
            "remaining_time": 41.67793077,
            "test": [
             0.1751390862
            ]
           },
           {
            "iteration": 88,
            "learn": [
             0.1732799636
            ],
            "passed_time": 59.62936209,
            "remaining_time": 40.86956278,
            "test": [
             0.1746257155
            ]
           },
           {
            "iteration": 89,
            "learn": [
             0.1727417819
            ],
            "passed_time": 60.57531478,
            "remaining_time": 40.38354319,
            "test": [
             0.1740497622
            ]
           },
           {
            "iteration": 90,
            "learn": [
             0.1723384761
            ],
            "passed_time": 61.46213057,
            "remaining_time": 39.84907366,
            "test": [
             0.173711574
            ]
           },
           {
            "iteration": 91,
            "learn": [
             0.1718208186
            ],
            "passed_time": 62.58597735,
            "remaining_time": 39.45637703,
            "test": [
             0.1732023852
            ]
           },
           {
            "iteration": 92,
            "learn": [
             0.1714504302
            ],
            "passed_time": 63.49221748,
            "remaining_time": 38.9145849,
            "test": [
             0.1728362509
            ]
           },
           {
            "iteration": 93,
            "learn": [
             0.1707512455
            ],
            "passed_time": 64.72458493,
            "remaining_time": 38.55932719,
            "test": [
             0.1721407862
            ]
           },
           {
            "iteration": 94,
            "learn": [
             0.1702893686
            ],
            "passed_time": 65.29459651,
            "remaining_time": 37.80213482,
            "test": [
             0.1717363409
            ]
           },
           {
            "iteration": 95,
            "learn": [
             0.169743391
            ],
            "passed_time": 65.90325881,
            "remaining_time": 37.07058308,
            "test": [
             0.1712627712
            ]
           },
           {
            "iteration": 96,
            "learn": [
             0.1694847162
            ],
            "passed_time": 66.50893514,
            "remaining_time": 36.33993363,
            "test": [
             0.1710091573
            ]
           },
           {
            "iteration": 97,
            "learn": [
             0.1688033874
            ],
            "passed_time": 67.02120958,
            "remaining_time": 35.56227447,
            "test": [
             0.1703437146
            ]
           },
           {
            "iteration": 98,
            "learn": [
             0.1682942229
            ],
            "passed_time": 67.56903701,
            "remaining_time": 34.80829179,
            "test": [
             0.1699119405
            ]
           },
           {
            "iteration": 99,
            "learn": [
             0.1679770665
            ],
            "passed_time": 68.01332632,
            "remaining_time": 34.00666316,
            "test": [
             0.1696559695
            ]
           },
           {
            "iteration": 100,
            "learn": [
             0.1674810704
            ],
            "passed_time": 68.54982374,
            "remaining_time": 33.25684518,
            "test": [
             0.1691909444
            ]
           },
           {
            "iteration": 101,
            "learn": [
             0.167196694
            ],
            "passed_time": 68.9522997,
            "remaining_time": 32.44814103,
            "test": [
             0.1689559137
            ]
           },
           {
            "iteration": 102,
            "learn": [
             0.1665756035
            ],
            "passed_time": 69.62534315,
            "remaining_time": 31.77078765,
            "test": [
             0.1683716758
            ]
           },
           {
            "iteration": 103,
            "learn": [
             0.1660140742
            ],
            "passed_time": 70.20540053,
            "remaining_time": 31.0523887,
            "test": [
             0.1678730883
            ]
           },
           {
            "iteration": 104,
            "learn": [
             0.1655128516
            ],
            "passed_time": 70.84844486,
            "remaining_time": 30.36361922,
            "test": [
             0.167372699
            ]
           },
           {
            "iteration": 105,
            "learn": [
             0.165024512
            ],
            "passed_time": 71.53763053,
            "remaining_time": 29.6948655,
            "test": [
             0.1669118017
            ]
           },
           {
            "iteration": 106,
            "learn": [
             0.1649162826
            ],
            "passed_time": 71.88616858,
            "remaining_time": 28.8888341,
            "test": [
             0.1668313114
            ]
           },
           {
            "iteration": 107,
            "learn": [
             0.1644992
            ],
            "passed_time": 72.75090611,
            "remaining_time": 28.29201904,
            "test": [
             0.1664429765
            ]
           },
           {
            "iteration": 108,
            "learn": [
             0.1642567966
            ],
            "passed_time": 73.20144262,
            "remaining_time": 27.53448759,
            "test": [
             0.1662157908
            ]
           },
           {
            "iteration": 109,
            "learn": [
             0.1637486334
            ],
            "passed_time": 73.83071805,
            "remaining_time": 26.84753383,
            "test": [
             0.1657740818
            ]
           },
           {
            "iteration": 110,
            "learn": [
             0.1633941343
            ],
            "passed_time": 74.27849045,
            "remaining_time": 26.097848,
            "test": [
             0.1654147786
            ]
           },
           {
            "iteration": 111,
            "learn": [
             0.1628541233
            ],
            "passed_time": 74.85675305,
            "remaining_time": 25.39782693,
            "test": [
             0.1648749272
            ]
           },
           {
            "iteration": 112,
            "learn": [
             0.1624813062
            ],
            "passed_time": 75.67596178,
            "remaining_time": 24.77885474,
            "test": [
             0.1645592234
            ]
           },
           {
            "iteration": 113,
            "learn": [
             0.1620652982
            ],
            "passed_time": 76.86643279,
            "remaining_time": 24.27361035,
            "test": [
             0.1641907431
            ]
           },
           {
            "iteration": 114,
            "learn": [
             0.1619098255
            ],
            "passed_time": 77.99612139,
            "remaining_time": 23.73794999,
            "test": [
             0.1640998343
            ]
           },
           {
            "iteration": 115,
            "learn": [
             0.1616813861
            ],
            "passed_time": 78.76718054,
            "remaining_time": 23.08693223,
            "test": [
             0.1638835556
            ]
           },
           {
            "iteration": 116,
            "learn": [
             0.1614830667
            ],
            "passed_time": 79.85512205,
            "remaining_time": 22.52323955,
            "test": [
             0.1637233025
            ]
           },
           {
            "iteration": 117,
            "learn": [
             0.1612661824
            ],
            "passed_time": 80.33880053,
            "remaining_time": 21.78679336,
            "test": [
             0.1635152836
            ]
           },
           {
            "iteration": 118,
            "learn": [
             0.1610817397
            ],
            "passed_time": 80.86273601,
            "remaining_time": 21.06508249,
            "test": [
             0.1633418035
            ]
           },
           {
            "iteration": 119,
            "learn": [
             0.160812433
            ],
            "passed_time": 81.41849133,
            "remaining_time": 20.35462283,
            "test": [
             0.1631145382
            ]
           },
           {
            "iteration": 120,
            "learn": [
             0.1602796816
            ],
            "passed_time": 82.16412562,
            "remaining_time": 19.69222845,
            "test": [
             0.1626092681
            ]
           },
           {
            "iteration": 121,
            "learn": [
             0.1601067046
            ],
            "passed_time": 82.56239905,
            "remaining_time": 18.94874732,
            "test": [
             0.1624794397
            ]
           },
           {
            "iteration": 122,
            "learn": [
             0.159808016
            ],
            "passed_time": 83.1081915,
            "remaining_time": 18.24326155,
            "test": [
             0.1622432958
            ]
           },
           {
            "iteration": 123,
            "learn": [
             0.1593375478
            ],
            "passed_time": 83.70000062,
            "remaining_time": 17.55000013,
            "test": [
             0.1618538323
            ]
           },
           {
            "iteration": 124,
            "learn": [
             0.1587592086
            ],
            "passed_time": 84.37634058,
            "remaining_time": 16.87526812,
            "test": [
             0.161279953
            ]
           },
           {
            "iteration": 125,
            "learn": [
             0.1585500317
            ],
            "passed_time": 84.77371542,
            "remaining_time": 16.14737437,
            "test": [
             0.1610873849
            ]
           },
           {
            "iteration": 126,
            "learn": [
             0.1582569785
            ],
            "passed_time": 85.35897547,
            "remaining_time": 15.45871209,
            "test": [
             0.160870923
            ]
           },
           {
            "iteration": 127,
            "learn": [
             0.1581414098
            ],
            "passed_time": 85.86173517,
            "remaining_time": 14.75748573,
            "test": [
             0.1607687003
            ]
           },
           {
            "iteration": 128,
            "learn": [
             0.1580098268
            ],
            "passed_time": 86.40432457,
            "remaining_time": 14.06582028,
            "test": [
             0.1607095431
            ]
           },
           {
            "iteration": 129,
            "learn": [
             0.157933514
            ],
            "passed_time": 86.8003926,
            "remaining_time": 13.35390655,
            "test": [
             0.1606637771
            ]
           },
           {
            "iteration": 130,
            "learn": [
             0.1577858507
            ],
            "passed_time": 87.27260409,
            "remaining_time": 12.65785861,
            "test": [
             0.1605584461
            ]
           },
           {
            "iteration": 131,
            "learn": [
             0.1575436567
            ],
            "passed_time": 87.6879445,
            "remaining_time": 11.95744698,
            "test": [
             0.1603268772
            ]
           },
           {
            "iteration": 132,
            "learn": [
             0.1571269158
            ],
            "passed_time": 88.34265851,
            "remaining_time": 11.29191876,
            "test": [
             0.1599860971
            ]
           },
           {
            "iteration": 133,
            "learn": [
             0.1569693635
            ],
            "passed_time": 88.76718335,
            "remaining_time": 10.59906667,
            "test": [
             0.1598561251
            ]
           },
           {
            "iteration": 134,
            "learn": [
             0.1567186583
            ],
            "passed_time": 89.36824716,
            "remaining_time": 9.92980524,
            "test": [
             0.1596238023
            ]
           },
           {
            "iteration": 135,
            "learn": [
             0.1566571595
            ],
            "passed_time": 89.73964619,
            "remaining_time": 9.237904755,
            "test": [
             0.159594173
            ]
           },
           {
            "iteration": 136,
            "learn": [
             0.1564791965
            ],
            "passed_time": 90.4188708,
            "remaining_time": 8.579892849,
            "test": [
             0.1594554423
            ]
           },
           {
            "iteration": 137,
            "learn": [
             0.1563051786
            ],
            "passed_time": 91.42944006,
            "remaining_time": 7.950386092,
            "test": [
             0.1592883983
            ]
           },
           {
            "iteration": 138,
            "learn": [
             0.1560484494
            ],
            "passed_time": 92.65529652,
            "remaining_time": 7.332433537,
            "test": [
             0.1590437071
            ]
           },
           {
            "iteration": 139,
            "learn": [
             0.1557156475
            ],
            "passed_time": 93.50998919,
            "remaining_time": 6.679284942,
            "test": [
             0.1586855099
            ]
           },
           {
            "iteration": 140,
            "learn": [
             0.1554431145
            ],
            "passed_time": 94.52036996,
            "remaining_time": 6.033215104,
            "test": [
             0.1584408896
            ]
           },
           {
            "iteration": 141,
            "learn": [
             0.1550314752
            ],
            "passed_time": 95.17369079,
            "remaining_time": 5.361898073,
            "test": [
             0.1580567914
            ]
           },
           {
            "iteration": 142,
            "learn": [
             0.1548970872
            ],
            "passed_time": 95.69545747,
            "remaining_time": 4.684393023,
            "test": [
             0.1579616874
            ]
           },
           {
            "iteration": 143,
            "learn": [
             0.1546875397
            ],
            "passed_time": 96.16651957,
            "remaining_time": 4.006938315,
            "test": [
             0.1577949478
            ]
           },
           {
            "iteration": 144,
            "learn": [
             0.1545392927
            ],
            "passed_time": 96.65429807,
            "remaining_time": 3.33290683,
            "test": [
             0.1576643322
            ]
           },
           {
            "iteration": 145,
            "learn": [
             0.154253476
            ],
            "passed_time": 97.06880134,
            "remaining_time": 2.659419215,
            "test": [
             0.157461545
            ]
           },
           {
            "iteration": 146,
            "learn": [
             0.1540964368
            ],
            "passed_time": 97.56598988,
            "remaining_time": 1.991142651,
            "test": [
             0.1573189072
            ]
           },
           {
            "iteration": 147,
            "learn": [
             0.1539210342
            ],
            "passed_time": 98.18476289,
            "remaining_time": 1.32682112,
            "test": [
             0.1572158506
            ]
           },
           {
            "iteration": 148,
            "learn": [
             0.1538565241
            ],
            "passed_time": 98.67065577,
            "remaining_time": 0.6622191663,
            "test": [
             0.1571906841
            ]
           },
           {
            "iteration": 149,
            "learn": [
             0.1537650547
            ],
            "passed_time": 99.02205047,
            "remaining_time": 0,
            "test": [
             0.1571272938
            ]
           }
          ],
          "meta": {
           "iteration_count": 150,
           "launch_mode": "Train",
           "learn_metrics": [
            {
             "best_value": "Min",
             "name": "MultiClass"
            }
           ],
           "learn_sets": [
            "learn"
           ],
           "name": "experiment",
           "parameters": "",
           "test_metrics": [
            {
             "best_value": "Min",
             "name": "MultiClass"
            }
           ],
           "test_sets": [
            "test"
           ]
          }
         },
         "passed_iterations": 149,
         "total_iterations": 150
        },
        "name": "catboost_info",
        "path": "catboost_info"
       }
      },
      "layout": "IPY_MODEL_387eb954666547bcada40110ce55ee24"
     }
    }
   }
  }
 },
 "nbformat": 4,
 "nbformat_minor": 1
}
